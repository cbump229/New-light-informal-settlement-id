{
 "cells": [
  {
   "cell_type": "code",
   "execution_count": 40,
   "metadata": {},
   "outputs": [],
   "source": [
    "import pandas as pd\n",
    "import numpy as np\n",
    "import time"
   ]
  },
  {
   "cell_type": "code",
   "execution_count": 41,
   "metadata": {},
   "outputs": [],
   "source": [
    "# Import data\n",
    "total_pop = pd.read_csv('../data/total_population.csv')\n",
    "man_pop = pd.read_csv('../data/man_population.csv')\n",
    "woman_pop = pd.read_csv('../data/woman_population.csv')\n",
    "woman_rep = pd.read_csv('../data/woman_reprod_15_49.csv')\n",
    "children_pop = pd.read_csv('../data/childrean_under_5.csv')\n",
    "youth_pop = pd.read_csv('../data/youth_15_24.csv')\n",
    "elder_pop = pd.read_csv('../data/elder_over_60.csv')"
   ]
  },
  {
   "cell_type": "code",
   "execution_count": 42,
   "metadata": {},
   "outputs": [],
   "source": [
    "# create a list of datasets\n",
    "df_list = [total_pop,man_pop,woman_pop,woman_rep,children_pop,youth_pop,elder_pop]\n",
    "\n",
    "# lowercase all column names\n",
    "for i in df_list:\n",
    "    i.columns = i.columns.str.lower()\n",
    "\n",
    "# standardize total_pop columns with the other datasets\n",
    "total_pop.rename(columns = {'lat': 'latitude',\n",
    "                            'lon': 'longitude'},inplace = True)"
   ]
  },
  {
   "cell_type": "code",
   "execution_count": 47,
   "metadata": {},
   "outputs": [
    {
     "name": "stdout",
     "output_type": "stream",
     "text": [
      "211.49937891960144\n",
      "202.8867781162262\n",
      "202.58960103988647\n",
      "206.13375282287598\n",
      "206.1073079109192\n",
      "205.44129371643066\n",
      "202.5624339580536\n"
     ]
    }
   ],
   "source": [
    "# create geo_location: combine latitude and longitude, and change type to string\n",
    "def create_string(df):\n",
    "    lan_lon_list = []\n",
    "    for i in range(len(df)):\n",
    "        lan_lon_str = str(df['latitude'][i]) + ',' + str(df['longitude'][i])\n",
    "        lan_lon_list.append(lan_lon_str)\n",
    "    df['geo_location'] = lan_lon_list\n",
    "\n",
    "# create geo_location in all datasets\n",
    "for i in df_list:\n",
    "    t0 = time.time()\n",
    "    create_string(i)\n",
    "    print (time.time()-t0)"
   ]
  },
  {
   "cell_type": "code",
   "execution_count": 67,
   "metadata": {},
   "outputs": [],
   "source": [
    "# create name for datasets, enable calling df.name\n",
    "total_pop.name = 'total_pop'\n",
    "man_pop.name = 'man_pop'\n",
    "woman_pop.name = 'woman_pop'\n",
    "woman_rep.name = 'woman_rep'\n",
    "children_pop.name = 'children_pop'\n",
    "youth_pop.name = 'youth_pop'\n",
    "elder_pop.name = 'elder_pop'"
   ]
  },
  {
   "cell_type": "code",
   "execution_count": 70,
   "metadata": {},
   "outputs": [],
   "source": [
    "# output new data to csv\n",
    "for i in df_list:\n",
    "    i.to_csv(f'../data_eda/{i.name}.csv', index = False)"
   ]
  },
  {
   "cell_type": "markdown",
   "metadata": {},
   "source": [
    "# unused code"
   ]
  },
  {
   "cell_type": "markdown",
   "metadata": {},
   "source": [
    "## check different latitude, longtitude compare with other df"
   ]
  },
  {
   "cell_type": "code",
   "execution_count": null,
   "metadata": {},
   "outputs": [],
   "source": [
    "# def check_latitude_longtitude(df1,df2):\n",
    "#     # create a set for unique value of latitude from df1, df2\n",
    "#     df1_lat = set(df1['latitude'])\n",
    "#     df2_lat = set(df2['latitude'])\n",
    "    \n",
    "#     # create a set for unique value of longitude from df1, df2\n",
    "#     df1_lon = set(df1['longitude'])\n",
    "#     df2_lon = set(df2['longitude'])\n",
    "    \n",
    "#     # create count for difference between df1 and df2\n",
    "#     count_lat = 0\n",
    "#     count_lon = 0\n",
    "    \n",
    "#     # list contain different latitude & longitude\n",
    "#     dif_lat = []\n",
    "#     dif_lon = []\n",
    "\n",
    "    \n",
    "#     # for loop to find difference in latitude\n",
    "#     for i in df1_lat:\n",
    "#         if i in df2_lat:\n",
    "#             continue\n",
    "#         else:\n",
    "#             # count_lat plus 1\n",
    "#             count_lat += 1\n",
    "#             # add latitude to dif_lat\n",
    "#             dif_lat.append(i)\n",
    "        \n",
    "#     # print out dataframe name and different number in latitude\n",
    "#     print (f'{df1.name} and {df2.name} differs in latitude: {count_lat}')\n",
    "    \n",
    "    \n",
    "#     # for loop to find difference in longitude\n",
    "#     for i in df1_lon:\n",
    "#         if i in df2_lon:\n",
    "#             continue\n",
    "#         else:\n",
    "#             # count_lon plus 1\n",
    "#             count_lon += 1\n",
    "#             # add longitude to dif_lon\n",
    "#             dif_lon.append(i)\n",
    "    \n",
    "#     # print out dataframe name and different number in longitude  \n",
    "#     print (f'{df1.name} and {df2.name} differs in longitude: {count_lon}')\n",
    "    \n",
    "    \n",
    "\n",
    "# # for loop to get difference in longitude and latitude from each dataset\n",
    "# t0 = time.time()\n",
    "# for i in df_list:\n",
    "#     for j in df_list:\n",
    "#         clean_latitude_longtitude(i,j)\n",
    "\n",
    "# print (time.time() - t0)"
   ]
  },
  {
   "cell_type": "markdown",
   "metadata": {},
   "source": [
    "## drop different lat, lon in all datasets"
   ]
  },
  {
   "cell_type": "code",
   "execution_count": null,
   "metadata": {},
   "outputs": [],
   "source": [
    "# def drop_dif(df1,df2):\n",
    "#     # create a set for unique value of latitude from df1, df2\n",
    "#     df1_lat = set(df1['latitude'])\n",
    "#     df2_lat = set(df2['latitude'])\n",
    "    \n",
    "#     # create a set for unique value of longitude from df1, df2\n",
    "#     df1_lon = set(df1['longitude'])\n",
    "#     df2_lon = set(df2['longitude'])\n",
    "    \n",
    "#     # list contain different latitude & longitude\n",
    "#     dif_lat = []\n",
    "#     dif_lon = []\n",
    "    \n",
    "#      # for loop to find difference in latitude\n",
    "#     for i in df1_lat:\n",
    "#         if i in df2_lat:\n",
    "#             continue\n",
    "#         else:\n",
    "#             # add latitude to dif_lat\n",
    "#             dif_lat.append(i)\n",
    "            \n",
    "#     # for loop to find difference in longitude\n",
    "#     for i in df1_lon:\n",
    "#         if i in df2_lon:\n",
    "#             continue\n",
    "#         else:\n",
    "#             # add longitude to dif_lon\n",
    "#             dif_lon.append(i)\n",
    "    \n",
    "#     # drop different lat, lon\n",
    "#     for i in dif_lat:\n",
    "#         df1.drop(df1.loc[df1['latitude'] == i].index, inplace = True)\n",
    "#         df2.drop(df2.loc[df2['latitude'] == i].index, inplace = True)\n",
    "#     for i in dif_lon:\n",
    "#         df1.drop(df1.loc[df1['longitude'] == i].index, inplace = True)\n",
    "#         df2.drop(df2.loc[df1['longitude'] == i].index, inplace = True)\n",
    "#     print (f'{df1.name},{df1.shape}')\n",
    "#     print (f'{df2.name},{df2.shape}')\n",
    "\n",
    "# # for loop to drop difference in longitude and latitude from each dataset\n",
    "# t0 = time.time()\n",
    "# for i in df_list:\n",
    "#     for j in df_list:\n",
    "#         try:\n",
    "#             drop_dif(i,j)\n",
    "#         except:\n",
    "#             continue\n",
    "\n",
    "# print (time.time() - t0)"
   ]
  }
 ],
 "metadata": {
  "kernelspec": {
   "display_name": "Python 3",
   "language": "python",
   "name": "python3"
  },
  "language_info": {
   "codemirror_mode": {
    "name": "ipython",
    "version": 3
   },
   "file_extension": ".py",
   "mimetype": "text/x-python",
   "name": "python",
   "nbconvert_exporter": "python",
   "pygments_lexer": "ipython3",
   "version": "3.7.4"
  }
 },
 "nbformat": 4,
 "nbformat_minor": 2
}
