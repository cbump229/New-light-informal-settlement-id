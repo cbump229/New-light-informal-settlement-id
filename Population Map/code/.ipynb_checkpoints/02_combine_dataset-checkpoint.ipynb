{
 "cells": [
  {
   "cell_type": "code",
   "execution_count": 1,
   "metadata": {},
   "outputs": [],
   "source": [
    "import pandas as pd\n",
    "import numpy as np\n",
    "import time\n",
    "import matplotlib.pyplot as plt\n",
    "\n",
    "pd.options.display.max_rows = 99\n",
    "pd.options.display.max_columns = 99"
   ]
  },
  {
   "cell_type": "code",
   "execution_count": 2,
   "metadata": {},
   "outputs": [],
   "source": [
    "total_pop = pd.read_csv('../data_eda/total_pop.csv')\n",
    "man_pop = pd.read_csv('../data_eda/man_pop.csv')\n",
    "woman_pop = pd.read_csv('../data_eda/woman_pop.csv')\n",
    "woman_rep = pd.read_csv('../data_eda/woman_rep.csv')\n",
    "children_pop = pd.read_csv('../data_eda/children_pop.csv')\n",
    "youth_pop = pd.read_csv('../data_eda/youth_pop.csv')\n",
    "elder_pop = pd.read_csv('../data_eda/elder_pop.csv')"
   ]
  },
  {
   "cell_type": "code",
   "execution_count": 3,
   "metadata": {},
   "outputs": [],
   "source": [
    "#pd.concat([total_pop.set_index('geo_location'),man_pop.set_index('geo_location')], axis = 1)\n",
    "# total_pop.merge(man_pop, how = 'outer', left_on= 'geo_location', right_on = 'geo_location')\n",
    "# 7264499 rows"
   ]
  },
  {
   "cell_type": "markdown",
   "metadata": {},
   "source": [
    "# Combine dataset"
   ]
  },
  {
   "cell_type": "code",
   "execution_count": 4,
   "metadata": {},
   "outputs": [
    {
     "data": {
      "text/plain": [
       "Index(['latitude_elder', 'longitude_elder', 'population_elder',\n",
       "       'geo_location_elder'],\n",
       "      dtype='object')"
      ]
     },
     "execution_count": 4,
     "metadata": {},
     "output_type": "execute_result"
    }
   ],
   "source": [
    "def change_column_name(df,string):\n",
    "    for column in df.columns:\n",
    "        df.rename(columns = {column : str(column + string)}, inplace = True)\n",
    "    return df.columns\n",
    "\n",
    "change_column_name(total_pop,'_total')\n",
    "change_column_name(man_pop, '_man')\n",
    "change_column_name(woman_pop,'_woman')\n",
    "change_column_name(woman_rep, '_woman_rep')\n",
    "change_column_name(children_pop,'_children')\n",
    "change_column_name(youth_pop,'_youth')\n",
    "change_column_name(elder_pop,'_elder')"
   ]
  },
  {
   "cell_type": "code",
   "execution_count": 5,
   "metadata": {},
   "outputs": [
    {
     "name": "stderr",
     "output_type": "stream",
     "text": [
      "/usr/local/Caskroom/miniconda/base/lib/python3.7/site-packages/ipykernel_launcher.py:11: FutureWarning: Sorting because non-concatenation axis is not aligned. A future version\n",
      "of pandas will change to not sort by default.\n",
      "\n",
      "To accept the future behavior, pass 'sort=False'.\n",
      "\n",
      "To retain the current behavior and silence the warning, pass 'sort=True'.\n",
      "\n",
      "  # This is added back by InteractiveShellApp.init_path()\n"
     ]
    },
    {
     "name": "stdout",
     "output_type": "stream",
     "text": [
      "63.52039694786072\n"
     ]
    }
   ],
   "source": [
    "t0 = time.time()\n",
    "full_df = pd.concat([\n",
    "        total_pop.set_index('geo_location_total'),\n",
    "        man_pop.set_index('geo_location_man'),\n",
    "        woman_pop.set_index('geo_location_woman'),\n",
    "        woman_rep.set_index('geo_location_woman_rep'),\n",
    "        children_pop.set_index('geo_location_children'),\n",
    "        youth_pop.set_index('geo_location_youth'),\n",
    "        elder_pop.set_index('geo_location_elder')\n",
    "        ], \n",
    "        axis = 1)\n",
    "print (time.time() - t0)"
   ]
  },
  {
   "cell_type": "code",
   "execution_count": 6,
   "metadata": {},
   "outputs": [
    {
     "data": {
      "text/plain": [
       "(7264499, 21)"
      ]
     },
     "execution_count": 6,
     "metadata": {},
     "output_type": "execute_result"
    }
   ],
   "source": [
    "full_df.shape"
   ]
  },
  {
   "cell_type": "markdown",
   "metadata": {},
   "source": [
    "# create df with only population with one complete lat, lon"
   ]
  },
  {
   "cell_type": "code",
   "execution_count": 7,
   "metadata": {},
   "outputs": [],
   "source": [
    "pop_df = full_df[[col for col in full_df.columns if col.startswith('population')]]"
   ]
  },
  {
   "cell_type": "code",
   "execution_count": 8,
   "metadata": {},
   "outputs": [
    {
     "data": {
      "text/html": [
       "<div>\n",
       "<style scoped>\n",
       "    .dataframe tbody tr th:only-of-type {\n",
       "        vertical-align: middle;\n",
       "    }\n",
       "\n",
       "    .dataframe tbody tr th {\n",
       "        vertical-align: top;\n",
       "    }\n",
       "\n",
       "    .dataframe thead th {\n",
       "        text-align: right;\n",
       "    }\n",
       "</style>\n",
       "<table border=\"1\" class=\"dataframe\">\n",
       "  <thead>\n",
       "    <tr style=\"text-align: right;\">\n",
       "      <th></th>\n",
       "      <th>population_total</th>\n",
       "      <th>population_man</th>\n",
       "      <th>population_woman</th>\n",
       "      <th>population_woman_rep</th>\n",
       "      <th>population_children</th>\n",
       "      <th>population_youth</th>\n",
       "      <th>population_elder</th>\n",
       "    </tr>\n",
       "  </thead>\n",
       "  <tbody>\n",
       "    <tr>\n",
       "      <th>21.9995833,36.7259722</th>\n",
       "      <td>NaN</td>\n",
       "      <td>3.143666</td>\n",
       "      <td>2.673635</td>\n",
       "      <td>1.460095</td>\n",
       "      <td>0.638118</td>\n",
       "      <td>1.140843</td>\n",
       "      <td>0.204629</td>\n",
       "    </tr>\n",
       "    <tr>\n",
       "      <th>21.9995833,36.7265278</th>\n",
       "      <td>NaN</td>\n",
       "      <td>3.143666</td>\n",
       "      <td>2.673635</td>\n",
       "      <td>1.460095</td>\n",
       "      <td>0.638118</td>\n",
       "      <td>1.140843</td>\n",
       "      <td>0.204629</td>\n",
       "    </tr>\n",
       "    <tr>\n",
       "      <th>21.9998611,36.7259722</th>\n",
       "      <td>5.85038</td>\n",
       "      <td>3.143666</td>\n",
       "      <td>2.673635</td>\n",
       "      <td>1.460095</td>\n",
       "      <td>0.638118</td>\n",
       "      <td>1.140843</td>\n",
       "      <td>0.204629</td>\n",
       "    </tr>\n",
       "    <tr>\n",
       "      <th>21.9998611,36.7265278</th>\n",
       "      <td>5.85038</td>\n",
       "      <td>NaN</td>\n",
       "      <td>NaN</td>\n",
       "      <td>NaN</td>\n",
       "      <td>NaN</td>\n",
       "      <td>NaN</td>\n",
       "      <td>NaN</td>\n",
       "    </tr>\n",
       "    <tr>\n",
       "      <th>22.0001389,36.7259722</th>\n",
       "      <td>5.85038</td>\n",
       "      <td>NaN</td>\n",
       "      <td>NaN</td>\n",
       "      <td>NaN</td>\n",
       "      <td>NaN</td>\n",
       "      <td>NaN</td>\n",
       "      <td>NaN</td>\n",
       "    </tr>\n",
       "    <tr>\n",
       "      <th>22.0001389,36.72625</th>\n",
       "      <td>NaN</td>\n",
       "      <td>3.143666</td>\n",
       "      <td>2.673635</td>\n",
       "      <td>1.460095</td>\n",
       "      <td>0.638118</td>\n",
       "      <td>1.140843</td>\n",
       "      <td>0.204629</td>\n",
       "    </tr>\n",
       "    <tr>\n",
       "      <th>22.0001389,36.810416700000005</th>\n",
       "      <td>NaN</td>\n",
       "      <td>3.143666</td>\n",
       "      <td>2.673635</td>\n",
       "      <td>1.460095</td>\n",
       "      <td>0.638118</td>\n",
       "      <td>1.140843</td>\n",
       "      <td>0.204629</td>\n",
       "    </tr>\n",
       "    <tr>\n",
       "      <th>22.0004167,36.724861100000005</th>\n",
       "      <td>NaN</td>\n",
       "      <td>3.143666</td>\n",
       "      <td>2.673635</td>\n",
       "      <td>1.460095</td>\n",
       "      <td>0.638118</td>\n",
       "      <td>1.140843</td>\n",
       "      <td>0.204629</td>\n",
       "    </tr>\n",
       "    <tr>\n",
       "      <th>22.0004167,36.7251389</th>\n",
       "      <td>NaN</td>\n",
       "      <td>3.143666</td>\n",
       "      <td>2.673635</td>\n",
       "      <td>1.460095</td>\n",
       "      <td>0.638118</td>\n",
       "      <td>1.140843</td>\n",
       "      <td>0.204629</td>\n",
       "    </tr>\n",
       "    <tr>\n",
       "      <th>22.0004167,36.725694399999995</th>\n",
       "      <td>NaN</td>\n",
       "      <td>3.143666</td>\n",
       "      <td>2.673635</td>\n",
       "      <td>1.460095</td>\n",
       "      <td>0.638118</td>\n",
       "      <td>1.140843</td>\n",
       "      <td>0.204629</td>\n",
       "    </tr>\n",
       "  </tbody>\n",
       "</table>\n",
       "</div>"
      ],
      "text/plain": [
       "                               population_total  population_man  \\\n",
       "21.9995833,36.7259722                       NaN        3.143666   \n",
       "21.9995833,36.7265278                       NaN        3.143666   \n",
       "21.9998611,36.7259722                   5.85038        3.143666   \n",
       "21.9998611,36.7265278                   5.85038             NaN   \n",
       "22.0001389,36.7259722                   5.85038             NaN   \n",
       "22.0001389,36.72625                         NaN        3.143666   \n",
       "22.0001389,36.810416700000005               NaN        3.143666   \n",
       "22.0004167,36.724861100000005               NaN        3.143666   \n",
       "22.0004167,36.7251389                       NaN        3.143666   \n",
       "22.0004167,36.725694399999995               NaN        3.143666   \n",
       "\n",
       "                               population_woman  population_woman_rep  \\\n",
       "21.9995833,36.7259722                  2.673635              1.460095   \n",
       "21.9995833,36.7265278                  2.673635              1.460095   \n",
       "21.9998611,36.7259722                  2.673635              1.460095   \n",
       "21.9998611,36.7265278                       NaN                   NaN   \n",
       "22.0001389,36.7259722                       NaN                   NaN   \n",
       "22.0001389,36.72625                    2.673635              1.460095   \n",
       "22.0001389,36.810416700000005          2.673635              1.460095   \n",
       "22.0004167,36.724861100000005          2.673635              1.460095   \n",
       "22.0004167,36.7251389                  2.673635              1.460095   \n",
       "22.0004167,36.725694399999995          2.673635              1.460095   \n",
       "\n",
       "                               population_children  population_youth  \\\n",
       "21.9995833,36.7259722                     0.638118          1.140843   \n",
       "21.9995833,36.7265278                     0.638118          1.140843   \n",
       "21.9998611,36.7259722                     0.638118          1.140843   \n",
       "21.9998611,36.7265278                          NaN               NaN   \n",
       "22.0001389,36.7259722                          NaN               NaN   \n",
       "22.0001389,36.72625                       0.638118          1.140843   \n",
       "22.0001389,36.810416700000005             0.638118          1.140843   \n",
       "22.0004167,36.724861100000005             0.638118          1.140843   \n",
       "22.0004167,36.7251389                     0.638118          1.140843   \n",
       "22.0004167,36.725694399999995             0.638118          1.140843   \n",
       "\n",
       "                               population_elder  \n",
       "21.9995833,36.7259722                  0.204629  \n",
       "21.9995833,36.7265278                  0.204629  \n",
       "21.9998611,36.7259722                  0.204629  \n",
       "21.9998611,36.7265278                       NaN  \n",
       "22.0001389,36.7259722                       NaN  \n",
       "22.0001389,36.72625                    0.204629  \n",
       "22.0001389,36.810416700000005          0.204629  \n",
       "22.0004167,36.724861100000005          0.204629  \n",
       "22.0004167,36.7251389                  0.204629  \n",
       "22.0004167,36.725694399999995          0.204629  "
      ]
     },
     "execution_count": 8,
     "metadata": {},
     "output_type": "execute_result"
    }
   ],
   "source": [
    "pop_df.head(10)"
   ]
  },
  {
   "cell_type": "code",
   "execution_count": 9,
   "metadata": {},
   "outputs": [],
   "source": [
    "# reset index\n",
    "pop_df.reset_index(inplace = True)"
   ]
  },
  {
   "cell_type": "code",
   "execution_count": 10,
   "metadata": {},
   "outputs": [
    {
     "name": "stderr",
     "output_type": "stream",
     "text": [
      "/usr/local/Caskroom/miniconda/base/lib/python3.7/site-packages/pandas/core/frame.py:4238: SettingWithCopyWarning: \n",
      "A value is trying to be set on a copy of a slice from a DataFrame\n",
      "\n",
      "See the caveats in the documentation: http://pandas.pydata.org/pandas-docs/stable/user_guide/indexing.html#returning-a-view-versus-a-copy\n",
      "  return super().rename(**kwargs)\n"
     ]
    }
   ],
   "source": [
    "pop_df.rename(columns = {'index' : 'coordinate'}, inplace = True)"
   ]
  },
  {
   "cell_type": "code",
   "execution_count": 11,
   "metadata": {},
   "outputs": [
    {
     "data": {
      "text/plain": [
       "coordinate               object\n",
       "population_total        float64\n",
       "population_man          float64\n",
       "population_woman        float64\n",
       "population_woman_rep    float64\n",
       "population_children     float64\n",
       "population_youth        float64\n",
       "population_elder        float64\n",
       "dtype: object"
      ]
     },
     "execution_count": 11,
     "metadata": {},
     "output_type": "execute_result"
    }
   ],
   "source": [
    "pop_df.dtypes"
   ]
  },
  {
   "cell_type": "code",
   "execution_count": 12,
   "metadata": {},
   "outputs": [],
   "source": [
    "# split coordinate into latitude, longtitude\n",
    "latitude = []\n",
    "longitude = []\n",
    "for i in pop_df['coordinate']:\n",
    "    lat = i.split(',')[0]\n",
    "    lon = i.split(',')[1]\n",
    "    latitude.append(lat)\n",
    "    longitude.append(lon)"
   ]
  },
  {
   "cell_type": "code",
   "execution_count": 13,
   "metadata": {},
   "outputs": [
    {
     "name": "stderr",
     "output_type": "stream",
     "text": [
      "/usr/local/Caskroom/miniconda/base/lib/python3.7/site-packages/ipykernel_launcher.py:2: SettingWithCopyWarning: \n",
      "A value is trying to be set on a copy of a slice from a DataFrame.\n",
      "Try using .loc[row_indexer,col_indexer] = value instead\n",
      "\n",
      "See the caveats in the documentation: http://pandas.pydata.org/pandas-docs/stable/user_guide/indexing.html#returning-a-view-versus-a-copy\n",
      "  \n",
      "/usr/local/Caskroom/miniconda/base/lib/python3.7/site-packages/ipykernel_launcher.py:3: SettingWithCopyWarning: \n",
      "A value is trying to be set on a copy of a slice from a DataFrame.\n",
      "Try using .loc[row_indexer,col_indexer] = value instead\n",
      "\n",
      "See the caveats in the documentation: http://pandas.pydata.org/pandas-docs/stable/user_guide/indexing.html#returning-a-view-versus-a-copy\n",
      "  This is separate from the ipykernel package so we can avoid doing imports until\n"
     ]
    }
   ],
   "source": [
    "# add latitude, longitude\n",
    "pop_df['latitude'] = latitude\n",
    "pop_df['longitude'] = longitude"
   ]
  },
  {
   "cell_type": "code",
   "execution_count": 14,
   "metadata": {},
   "outputs": [
    {
     "data": {
      "text/plain": [
       "Index(['coordinate', 'population_total', 'population_man', 'population_woman',\n",
       "       'population_woman_rep', 'population_children', 'population_youth',\n",
       "       'population_elder', 'latitude', 'longitude'],\n",
       "      dtype='object')"
      ]
     },
     "execution_count": 14,
     "metadata": {},
     "output_type": "execute_result"
    }
   ],
   "source": [
    "pop_df.columns"
   ]
  },
  {
   "cell_type": "code",
   "execution_count": 15,
   "metadata": {},
   "outputs": [
    {
     "name": "stderr",
     "output_type": "stream",
     "text": [
      "/usr/local/Caskroom/miniconda/base/lib/python3.7/site-packages/pandas/core/frame.py:4117: SettingWithCopyWarning: \n",
      "A value is trying to be set on a copy of a slice from a DataFrame\n",
      "\n",
      "See the caveats in the documentation: http://pandas.pydata.org/pandas-docs/stable/user_guide/indexing.html#returning-a-view-versus-a-copy\n",
      "  errors=errors,\n"
     ]
    }
   ],
   "source": [
    "# drop coordinate\n",
    "pop_df.drop(columns = 'coordinate', inplace = True)"
   ]
  },
  {
   "cell_type": "code",
   "execution_count": 16,
   "metadata": {},
   "outputs": [
    {
     "data": {
      "text/plain": [
       "population_total        2610572\n",
       "population_man          2610572\n",
       "population_woman        2610572\n",
       "population_woman_rep    2625483\n",
       "population_children     2625483\n",
       "population_youth        2610572\n",
       "population_elder        2610572\n",
       "latitude                      0\n",
       "longitude                     0\n",
       "dtype: int64"
      ]
     },
     "execution_count": 16,
     "metadata": {},
     "output_type": "execute_result"
    }
   ],
   "source": [
    "pop_df.isnull().sum()"
   ]
  },
  {
   "cell_type": "code",
   "execution_count": 17,
   "metadata": {},
   "outputs": [
    {
     "data": {
      "text/plain": [
       "population_total        float64\n",
       "population_man          float64\n",
       "population_woman        float64\n",
       "population_woman_rep    float64\n",
       "population_children     float64\n",
       "population_youth        float64\n",
       "population_elder        float64\n",
       "latitude                 object\n",
       "longitude                object\n",
       "dtype: object"
      ]
     },
     "execution_count": 17,
     "metadata": {},
     "output_type": "execute_result"
    }
   ],
   "source": [
    "pop_df.dtypes"
   ]
  },
  {
   "cell_type": "code",
   "execution_count": 18,
   "metadata": {},
   "outputs": [
    {
     "name": "stderr",
     "output_type": "stream",
     "text": [
      "/usr/local/Caskroom/miniconda/base/lib/python3.7/site-packages/ipykernel_launcher.py:1: SettingWithCopyWarning: \n",
      "A value is trying to be set on a copy of a slice from a DataFrame.\n",
      "Try using .loc[row_indexer,col_indexer] = value instead\n",
      "\n",
      "See the caveats in the documentation: http://pandas.pydata.org/pandas-docs/stable/user_guide/indexing.html#returning-a-view-versus-a-copy\n",
      "  \"\"\"Entry point for launching an IPython kernel.\n",
      "/usr/local/Caskroom/miniconda/base/lib/python3.7/site-packages/ipykernel_launcher.py:2: SettingWithCopyWarning: \n",
      "A value is trying to be set on a copy of a slice from a DataFrame.\n",
      "Try using .loc[row_indexer,col_indexer] = value instead\n",
      "\n",
      "See the caveats in the documentation: http://pandas.pydata.org/pandas-docs/stable/user_guide/indexing.html#returning-a-view-versus-a-copy\n",
      "  \n"
     ]
    }
   ],
   "source": [
    "pop_df['latitude'] = pop_df['latitude'].str.strip().astype(float)\n",
    "pop_df['longitude'] = pop_df['longitude'].str.strip().astype(float)"
   ]
  },
  {
   "cell_type": "markdown",
   "metadata": {},
   "source": [
    "## Cairo Latitude: 30.033333, Longitude: 31.233334"
   ]
  },
  {
   "cell_type": "code",
   "execution_count": 19,
   "metadata": {},
   "outputs": [],
   "source": [
    "df_cairo = pop_df.loc[(pop_df['latitude'] > 29.8) & \n",
    "                  (pop_df['latitude'] < 30.2) & \n",
    "                  (pop_df['longitude'] > 31.1) & \n",
    "                  (pop_df['longitude'] < 31.4)]"
   ]
  },
  {
   "cell_type": "code",
   "execution_count": 20,
   "metadata": {},
   "outputs": [],
   "source": [
    "df_cairo.to_csv('../data_eda/df_cairo.csv', index = False)"
   ]
  }
 ],
 "metadata": {
  "kernelspec": {
   "display_name": "Python 3",
   "language": "python",
   "name": "python3"
  },
  "language_info": {
   "codemirror_mode": {
    "name": "ipython",
    "version": 3
   },
   "file_extension": ".py",
   "mimetype": "text/x-python",
   "name": "python",
   "nbconvert_exporter": "python",
   "pygments_lexer": "ipython3",
   "version": "3.7.4"
  }
 },
 "nbformat": 4,
 "nbformat_minor": 2
}
