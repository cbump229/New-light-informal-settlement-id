{
 "cells": [
  {
   "cell_type": "code",
   "execution_count": 2,
   "metadata": {},
   "outputs": [],
   "source": [
    "import pandas as pd\n",
    "import numpy as np"
   ]
  },
  {
   "cell_type": "markdown",
   "metadata": {},
   "source": [
    "# Initial cleaning for a smaller dataset"
   ]
  },
  {
   "cell_type": "code",
   "execution_count": 3,
   "metadata": {},
   "outputs": [],
   "source": [
    "#df = pd.read_csv('./CSVs/Small_Dataset/egypt_final.csv', skipinitialspace=True)"
   ]
  },
  {
   "cell_type": "code",
   "execution_count": 4,
   "metadata": {},
   "outputs": [],
   "source": [
    "#df['city'].value_counts()"
   ]
  },
  {
   "cell_type": "code",
   "execution_count": 5,
   "metadata": {
    "scrolled": true
   },
   "outputs": [],
   "source": [
    "#df.drop(df.loc[df['city'] == \"Suez\"].index, inplace = True)\n",
    "#df.drop(df.loc[df['city'] == \"Giza\"].index, inplace = True)\n",
    "#df.drop(df.loc[df['city'] == \"North Coast\"].index, inplace = True)\n",
    "#df.drop(df.loc[df['city'] == \"Red Sea\"].index, inplace = True)\n",
    "#df.drop(df.loc[df['city'] == \"Alexandria\"].index, inplace = True)\n",
    "#df.drop(df.loc[df['city'] == \"Sharqia\"].index, inplace = True)\n",
    "#df.drop(df.loc[df['city'] == \"Al Daqahlya\"].index, inplace = True)"
   ]
  },
  {
   "cell_type": "code",
   "execution_count": 6,
   "metadata": {},
   "outputs": [],
   "source": [
    "#df.reset_index(drop = True, inplace = True)"
   ]
  },
  {
   "cell_type": "code",
   "execution_count": 7,
   "metadata": {
    "scrolled": true
   },
   "outputs": [],
   "source": [
    "#df.tail()"
   ]
  },
  {
   "cell_type": "code",
   "execution_count": 8,
   "metadata": {},
   "outputs": [],
   "source": [
    "#df.to_csv('./CSVs/Small_Dataset/cairo_only.csv', index = False)"
   ]
  },
  {
   "cell_type": "code",
   "execution_count": 9,
   "metadata": {},
   "outputs": [],
   "source": [
    "#df['page'].value_counts()"
   ]
  },
  {
   "cell_type": "code",
   "execution_count": 10,
   "metadata": {},
   "outputs": [],
   "source": [
    "#df_buy = df.drop(df.loc[(df['page'] == 'comm') | (df['page'] == 'rent')].index)"
   ]
  },
  {
   "cell_type": "code",
   "execution_count": 11,
   "metadata": {},
   "outputs": [],
   "source": [
    "#df_buy.to_csv('./CSVs/Small_Dataset/cairo_only_buy.csv', index = False)"
   ]
  },
  {
   "cell_type": "code",
   "execution_count": 12,
   "metadata": {
    "scrolled": true
   },
   "outputs": [],
   "source": [
    "#df_buy = df_buy.append({'Location': 'Mansheya Nasir, Governorate Egypt, Cairo', \n",
    "#           'base_price': 1, 'property_type': 'Informal Settlements', \n",
    "#           'city': 'Cairo', \"sub_div\": 'Governorate Egypt'}, ignore_index = True)"
   ]
  },
  {
   "cell_type": "code",
   "execution_count": 14,
   "metadata": {},
   "outputs": [],
   "source": [
    "#df_buy = df_buy.append({'Location': 'Ezbet el-Haggana, Nasr City, Egypt', \n",
    "#           'base_price': 1, 'property_type': 'Informal Settlements', \n",
    "#           'city': 'Cairo', \"sub_div\": 'Nasr City'}, ignore_index = True)"
   ]
  },
  {
   "cell_type": "code",
   "execution_count": 15,
   "metadata": {},
   "outputs": [],
   "source": [
    "#df_buy = df_buy.append({'Location': \"7 Branshed from Al Soultan Ahmed, El-Darb El-Ahmar, Monsha'et Nasser, Cairo Governorate, Egypt\", \n",
    "#           'base_price': 1, 'property_type': 'Informal Settlements', \n",
    "#           'city': 'Cairo', \"sub_div\": 'Governorate Egypt'}, ignore_index = True)\n"
   ]
  },
  {
   "cell_type": "code",
   "execution_count": 16,
   "metadata": {},
   "outputs": [],
   "source": [
    "#df_buy.tail()"
   ]
  },
  {
   "cell_type": "code",
   "execution_count": 17,
   "metadata": {},
   "outputs": [],
   "source": [
    "#df_buy.to_csv('./CSVs/Small_Dataset/cairo_only_buy_3slums.csv', index = False)"
   ]
  },
  {
   "cell_type": "markdown",
   "metadata": {},
   "source": [
    "# Latitude and Longitude CSV"
   ]
  },
  {
   "cell_type": "code",
   "execution_count": 18,
   "metadata": {},
   "outputs": [],
   "source": [
    "# Reading in the final dataset\n",
    "df = pd.read_csv('./CSVs/with_coords.csv')"
   ]
  },
  {
   "cell_type": "code",
   "execution_count": 19,
   "metadata": {
    "scrolled": true
   },
   "outputs": [
    {
     "data": {
      "text/html": [
       "<div>\n",
       "<style scoped>\n",
       "    .dataframe tbody tr th:only-of-type {\n",
       "        vertical-align: middle;\n",
       "    }\n",
       "\n",
       "    .dataframe tbody tr th {\n",
       "        vertical-align: top;\n",
       "    }\n",
       "\n",
       "    .dataframe thead th {\n",
       "        text-align: right;\n",
       "    }\n",
       "</style>\n",
       "<table border=\"1\" class=\"dataframe\">\n",
       "  <thead>\n",
       "    <tr style=\"text-align: right;\">\n",
       "      <th></th>\n",
       "      <th>Baths</th>\n",
       "      <th>Beds</th>\n",
       "      <th>Location</th>\n",
       "      <th>Square Meter</th>\n",
       "      <th>base_price</th>\n",
       "      <th>city</th>\n",
       "      <th>country</th>\n",
       "      <th>page</th>\n",
       "      <th>price_usd</th>\n",
       "      <th>property_type</th>\n",
       "      <th>sub_div</th>\n",
       "      <th>lat</th>\n",
       "      <th>lon</th>\n",
       "    </tr>\n",
       "  </thead>\n",
       "  <tbody>\n",
       "    <tr>\n",
       "      <th>0</th>\n",
       "      <td>2</td>\n",
       "      <td>2</td>\n",
       "      <td>Baymount, Al Ain Al Sokhna, Suez</td>\n",
       "      <td>105</td>\n",
       "      <td>1200000</td>\n",
       "      <td>Suez</td>\n",
       "      <td>Egypt</td>\n",
       "      <td>buy</td>\n",
       "      <td>18876000.0</td>\n",
       "      <td>Chalet</td>\n",
       "      <td>Al Ain Al Sokhna</td>\n",
       "      <td>30.074282</td>\n",
       "      <td>31.544374</td>\n",
       "    </tr>\n",
       "    <tr>\n",
       "      <th>1</th>\n",
       "      <td>2</td>\n",
       "      <td>2</td>\n",
       "      <td>Aroma Residence, Al Ain Al Sokhna, Suez</td>\n",
       "      <td>95</td>\n",
       "      <td>1550000</td>\n",
       "      <td>Suez</td>\n",
       "      <td>Egypt</td>\n",
       "      <td>buy</td>\n",
       "      <td>24381500.0</td>\n",
       "      <td>Chalet</td>\n",
       "      <td>Al Ain Al Sokhna</td>\n",
       "      <td>30.074282</td>\n",
       "      <td>31.544374</td>\n",
       "    </tr>\n",
       "    <tr>\n",
       "      <th>2</th>\n",
       "      <td>4</td>\n",
       "      <td>4</td>\n",
       "      <td>The Courtyards, Sheikh Zayed Compounds, Sheikh...</td>\n",
       "      <td>286</td>\n",
       "      <td>4750000</td>\n",
       "      <td>Giza</td>\n",
       "      <td>Egypt</td>\n",
       "      <td>buy</td>\n",
       "      <td>74717500.0</td>\n",
       "      <td>Townhouse</td>\n",
       "      <td>Sheikh Zayed City</td>\n",
       "      <td>30.048347</td>\n",
       "      <td>30.983223</td>\n",
       "    </tr>\n",
       "    <tr>\n",
       "      <th>3</th>\n",
       "      <td>4</td>\n",
       "      <td>5</td>\n",
       "      <td>Mivida, 5th Settlement Compounds, The 5th Sett...</td>\n",
       "      <td>391</td>\n",
       "      <td>8400000</td>\n",
       "      <td>Cairo</td>\n",
       "      <td>Egypt</td>\n",
       "      <td>buy</td>\n",
       "      <td>132132000.0</td>\n",
       "      <td>Villa</td>\n",
       "      <td>New Cairo City</td>\n",
       "      <td>30.063103</td>\n",
       "      <td>31.455447</td>\n",
       "    </tr>\n",
       "    <tr>\n",
       "      <th>4</th>\n",
       "      <td>2</td>\n",
       "      <td>3</td>\n",
       "      <td>IL Monte Galala, Al Ain Al Sokhna, Suez</td>\n",
       "      <td>119</td>\n",
       "      <td>2900000</td>\n",
       "      <td>Suez</td>\n",
       "      <td>Egypt</td>\n",
       "      <td>buy</td>\n",
       "      <td>45617000.0</td>\n",
       "      <td>Chalet</td>\n",
       "      <td>Al Ain Al Sokhna</td>\n",
       "      <td>30.074282</td>\n",
       "      <td>31.544374</td>\n",
       "    </tr>\n",
       "  </tbody>\n",
       "</table>\n",
       "</div>"
      ],
      "text/plain": [
       "  Baths Beds                                           Location Square Meter  \\\n",
       "0     2    2                   Baymount, Al Ain Al Sokhna, Suez          105   \n",
       "1     2    2            Aroma Residence, Al Ain Al Sokhna, Suez           95   \n",
       "2     4    4  The Courtyards, Sheikh Zayed Compounds, Sheikh...          286   \n",
       "3     4    5  Mivida, 5th Settlement Compounds, The 5th Sett...          391   \n",
       "4     2    3            IL Monte Galala, Al Ain Al Sokhna, Suez          119   \n",
       "\n",
       "   base_price    city country page    price_usd property_type  \\\n",
       "0     1200000    Suez   Egypt  buy   18876000.0        Chalet   \n",
       "1     1550000    Suez   Egypt  buy   24381500.0        Chalet   \n",
       "2     4750000    Giza   Egypt  buy   74717500.0     Townhouse   \n",
       "3     8400000   Cairo   Egypt  buy  132132000.0         Villa   \n",
       "4     2900000    Suez   Egypt  buy   45617000.0        Chalet   \n",
       "\n",
       "              sub_div        lat        lon  \n",
       "0    Al Ain Al Sokhna  30.074282  31.544374  \n",
       "1    Al Ain Al Sokhna  30.074282  31.544374  \n",
       "2   Sheikh Zayed City  30.048347  30.983223  \n",
       "3      New Cairo City  30.063103  31.455447  \n",
       "4    Al Ain Al Sokhna  30.074282  31.544374  "
      ]
     },
     "execution_count": 19,
     "metadata": {},
     "output_type": "execute_result"
    }
   ],
   "source": [
    "df.head()"
   ]
  },
  {
   "cell_type": "code",
   "execution_count": 30,
   "metadata": {},
   "outputs": [],
   "source": [
    "df.rename(columns = {'lat': 'Longitude', 'lon': 'Latitude'}, inplace = True)"
   ]
  },
  {
   "cell_type": "code",
   "execution_count": 31,
   "metadata": {},
   "outputs": [],
   "source": [
    "# Drop all duplicates\n",
    "df.drop_duplicates(inplace = True)"
   ]
  },
  {
   "cell_type": "code",
   "execution_count": 32,
   "metadata": {},
   "outputs": [
    {
     "data": {
      "text/plain": [
       "Baths             460\n",
       "Beds             1588\n",
       "Location            0\n",
       "Square Meter       27\n",
       "base_price          0\n",
       "city                0\n",
       "country             0\n",
       "page                0\n",
       "price_usd           0\n",
       "property_type       0\n",
       "sub_div             0\n",
       "Longitude           0\n",
       "Latitude            0\n",
       "dtype: int64"
      ]
     },
     "execution_count": 32,
     "metadata": {},
     "output_type": "execute_result"
    }
   ],
   "source": [
    "# Check the null values\n",
    "df.isnull().sum()"
   ]
  },
  {
   "cell_type": "code",
   "execution_count": 33,
   "metadata": {},
   "outputs": [
    {
     "data": {
      "text/html": [
       "<div>\n",
       "<style scoped>\n",
       "    .dataframe tbody tr th:only-of-type {\n",
       "        vertical-align: middle;\n",
       "    }\n",
       "\n",
       "    .dataframe tbody tr th {\n",
       "        vertical-align: top;\n",
       "    }\n",
       "\n",
       "    .dataframe thead th {\n",
       "        text-align: right;\n",
       "    }\n",
       "</style>\n",
       "<table border=\"1\" class=\"dataframe\">\n",
       "  <thead>\n",
       "    <tr style=\"text-align: right;\">\n",
       "      <th></th>\n",
       "      <th>Longitude</th>\n",
       "      <th>Latitude</th>\n",
       "    </tr>\n",
       "  </thead>\n",
       "  <tbody>\n",
       "    <tr>\n",
       "      <th>count</th>\n",
       "      <td>6216.000000</td>\n",
       "      <td>6216.000000</td>\n",
       "    </tr>\n",
       "    <tr>\n",
       "      <th>mean</th>\n",
       "      <td>26.636846</td>\n",
       "      <td>27.795596</td>\n",
       "    </tr>\n",
       "    <tr>\n",
       "      <th>std</th>\n",
       "      <td>9.535674</td>\n",
       "      <td>9.952087</td>\n",
       "    </tr>\n",
       "    <tr>\n",
       "      <th>min</th>\n",
       "      <td>0.000000</td>\n",
       "      <td>0.000000</td>\n",
       "    </tr>\n",
       "    <tr>\n",
       "      <th>25%</th>\n",
       "      <td>30.020128</td>\n",
       "      <td>31.243666</td>\n",
       "    </tr>\n",
       "    <tr>\n",
       "      <th>50%</th>\n",
       "      <td>30.048819</td>\n",
       "      <td>31.404629</td>\n",
       "    </tr>\n",
       "    <tr>\n",
       "      <th>75%</th>\n",
       "      <td>30.063103</td>\n",
       "      <td>31.455447</td>\n",
       "    </tr>\n",
       "    <tr>\n",
       "      <th>max</th>\n",
       "      <td>30.969322</td>\n",
       "      <td>31.760475</td>\n",
       "    </tr>\n",
       "  </tbody>\n",
       "</table>\n",
       "</div>"
      ],
      "text/plain": [
       "         Longitude     Latitude\n",
       "count  6216.000000  6216.000000\n",
       "mean     26.636846    27.795596\n",
       "std       9.535674     9.952087\n",
       "min       0.000000     0.000000\n",
       "25%      30.020128    31.243666\n",
       "50%      30.048819    31.404629\n",
       "75%      30.063103    31.455447\n",
       "max      30.969322    31.760475"
      ]
     },
     "execution_count": 33,
     "metadata": {},
     "output_type": "execute_result"
    }
   ],
   "source": [
    "# checking the distribution of Latitude and Longitdue\n",
    "df[['Longitude', 'Latitude']].describe()"
   ]
  },
  {
   "cell_type": "code",
   "execution_count": 34,
   "metadata": {},
   "outputs": [],
   "source": [
    "# Dropping any location outside of Cairo\n",
    "df.drop(df.loc[df['Longitude'] > 30.3].index, inplace = True)\n",
    "\n",
    "df.drop(df.loc[df['Longitude'] > 32].index, inplace = True)\n",
    "\n",
    "df.drop(df.loc[df['Latitude'] < 30].index, inplace = True)\n",
    "\n",
    "df.drop(df.loc[df['Latitude'] < 31].index, inplace = True)"
   ]
  },
  {
   "cell_type": "code",
   "execution_count": 37,
   "metadata": {},
   "outputs": [
    {
     "data": {
      "text/html": [
       "<div>\n",
       "<style scoped>\n",
       "    .dataframe tbody tr th:only-of-type {\n",
       "        vertical-align: middle;\n",
       "    }\n",
       "\n",
       "    .dataframe tbody tr th {\n",
       "        vertical-align: top;\n",
       "    }\n",
       "\n",
       "    .dataframe thead th {\n",
       "        text-align: right;\n",
       "    }\n",
       "</style>\n",
       "<table border=\"1\" class=\"dataframe\">\n",
       "  <thead>\n",
       "    <tr style=\"text-align: right;\">\n",
       "      <th></th>\n",
       "      <th>Longitude</th>\n",
       "      <th>Latitude</th>\n",
       "    </tr>\n",
       "  </thead>\n",
       "  <tbody>\n",
       "    <tr>\n",
       "      <th>count</th>\n",
       "      <td>4966.000000</td>\n",
       "      <td>4966.000000</td>\n",
       "    </tr>\n",
       "    <tr>\n",
       "      <th>mean</th>\n",
       "      <td>30.046973</td>\n",
       "      <td>31.404273</td>\n",
       "    </tr>\n",
       "    <tr>\n",
       "      <th>std</th>\n",
       "      <td>0.036381</td>\n",
       "      <td>0.100907</td>\n",
       "    </tr>\n",
       "    <tr>\n",
       "      <th>min</th>\n",
       "      <td>29.550000</td>\n",
       "      <td>31.133333</td>\n",
       "    </tr>\n",
       "    <tr>\n",
       "      <th>25%</th>\n",
       "      <td>30.020128</td>\n",
       "      <td>31.296087</td>\n",
       "    </tr>\n",
       "    <tr>\n",
       "      <th>50%</th>\n",
       "      <td>30.052118</td>\n",
       "      <td>31.455447</td>\n",
       "    </tr>\n",
       "    <tr>\n",
       "      <th>75%</th>\n",
       "      <td>30.063103</td>\n",
       "      <td>31.455447</td>\n",
       "    </tr>\n",
       "    <tr>\n",
       "      <th>max</th>\n",
       "      <td>30.290010</td>\n",
       "      <td>31.760475</td>\n",
       "    </tr>\n",
       "  </tbody>\n",
       "</table>\n",
       "</div>"
      ],
      "text/plain": [
       "         Longitude     Latitude\n",
       "count  4966.000000  4966.000000\n",
       "mean     30.046973    31.404273\n",
       "std       0.036381     0.100907\n",
       "min      29.550000    31.133333\n",
       "25%      30.020128    31.296087\n",
       "50%      30.052118    31.455447\n",
       "75%      30.063103    31.455447\n",
       "max      30.290010    31.760475"
      ]
     },
     "execution_count": 37,
     "metadata": {},
     "output_type": "execute_result"
    }
   ],
   "source": [
    "# checking again\n",
    "df[['Longitude', 'Latitude']].describe()"
   ]
  },
  {
   "cell_type": "code",
   "execution_count": 35,
   "metadata": {},
   "outputs": [],
   "source": [
    "df.to_csv('./CSVs/coord_no_zeros.csv', index = False)"
   ]
  }
 ],
 "metadata": {
  "kernelspec": {
   "display_name": "Python 3",
   "language": "python",
   "name": "python3"
  },
  "language_info": {
   "codemirror_mode": {
    "name": "ipython",
    "version": 3
   },
   "file_extension": ".py",
   "mimetype": "text/x-python",
   "name": "python",
   "nbconvert_exporter": "python",
   "pygments_lexer": "ipython3",
   "version": "3.7.4"
  }
 },
 "nbformat": 4,
 "nbformat_minor": 2
}
