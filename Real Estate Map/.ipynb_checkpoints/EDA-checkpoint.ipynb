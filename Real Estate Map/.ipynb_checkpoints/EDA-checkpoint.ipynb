{
 "cells": [
  {
   "cell_type": "markdown",
   "metadata": {},
   "source": [
    "## Slums in Cairo\n",
    "- Bahr al-Bakkar\n",
    "- Nasser\n",
    "- Imbaba\n",
    "- Estabi Antar,\n",
    "- Ezbet Khayrallah\n",
    "- Ramlet Boulak\n",
    "- Al Sawah\n",
    "- Ezbet Abu Qarn\n",
    "- Ezbet El Haggana\n",
    "- Shubra Al Kheima\n",
    "- Sudan Nest\n",
    "- Tal al-Aqarib\n",
    "- Al Duwayqa"
   ]
  },
  {
   "cell_type": "code",
   "execution_count": 1,
   "metadata": {},
   "outputs": [],
   "source": [
    "import pandas as pd\n",
    "import numpy as np\n",
    "import matplotlib.pyplot as plt"
   ]
  },
  {
   "cell_type": "code",
   "execution_count": 2,
   "metadata": {},
   "outputs": [],
   "source": [
    "# Reading in the smaller dataset\n",
    "df = pd.read_csv('./CSVs/cairo_only.csv')"
   ]
  },
  {
   "cell_type": "code",
   "execution_count": 3,
   "metadata": {},
   "outputs": [
    {
     "data": {
      "text/html": [
       "<div>\n",
       "<style scoped>\n",
       "    .dataframe tbody tr th:only-of-type {\n",
       "        vertical-align: middle;\n",
       "    }\n",
       "\n",
       "    .dataframe tbody tr th {\n",
       "        vertical-align: top;\n",
       "    }\n",
       "\n",
       "    .dataframe thead th {\n",
       "        text-align: right;\n",
       "    }\n",
       "</style>\n",
       "<table border=\"1\" class=\"dataframe\">\n",
       "  <thead>\n",
       "    <tr style=\"text-align: right;\">\n",
       "      <th></th>\n",
       "      <th>Baths</th>\n",
       "      <th>Beds</th>\n",
       "      <th>Location</th>\n",
       "      <th>Square Meter</th>\n",
       "      <th>base_price</th>\n",
       "      <th>city</th>\n",
       "      <th>country</th>\n",
       "      <th>page</th>\n",
       "      <th>property_type</th>\n",
       "      <th>sub_div</th>\n",
       "    </tr>\n",
       "  </thead>\n",
       "  <tbody>\n",
       "    <tr>\n",
       "      <th>0</th>\n",
       "      <td>6</td>\n",
       "      <td>5</td>\n",
       "      <td>Villette, 5th Settlement Compounds, The 5th Se...</td>\n",
       "      <td>360</td>\n",
       "      <td>9800000</td>\n",
       "      <td>Cairo</td>\n",
       "      <td>Egypt</td>\n",
       "      <td>buy</td>\n",
       "      <td>Villa</td>\n",
       "      <td>New Cairo City</td>\n",
       "    </tr>\n",
       "    <tr>\n",
       "      <th>1</th>\n",
       "      <td>4</td>\n",
       "      <td>4</td>\n",
       "      <td>Mivida, 5th Settlement Compounds, The 5th Sett...</td>\n",
       "      <td>407</td>\n",
       "      <td>9000000</td>\n",
       "      <td>Cairo</td>\n",
       "      <td>Egypt</td>\n",
       "      <td>buy</td>\n",
       "      <td>Villa</td>\n",
       "      <td>New Cairo City</td>\n",
       "    </tr>\n",
       "    <tr>\n",
       "      <th>2</th>\n",
       "      <td>3</td>\n",
       "      <td>4</td>\n",
       "      <td>Mivida, 5th Settlement Compounds, The 5th Sett...</td>\n",
       "      <td>280</td>\n",
       "      <td>5600000</td>\n",
       "      <td>Cairo</td>\n",
       "      <td>Egypt</td>\n",
       "      <td>buy</td>\n",
       "      <td>Townhouse</td>\n",
       "      <td>New Cairo City</td>\n",
       "    </tr>\n",
       "    <tr>\n",
       "      <th>3</th>\n",
       "      <td>2</td>\n",
       "      <td>3</td>\n",
       "      <td>Mountain View Hyde Park, 5th Settlement Compou...</td>\n",
       "      <td>166</td>\n",
       "      <td>1850000</td>\n",
       "      <td>Cairo</td>\n",
       "      <td>Egypt</td>\n",
       "      <td>buy</td>\n",
       "      <td>Penthouse</td>\n",
       "      <td>New Cairo City</td>\n",
       "    </tr>\n",
       "    <tr>\n",
       "      <th>4</th>\n",
       "      <td>3</td>\n",
       "      <td>4</td>\n",
       "      <td>Mivida, 5th Settlement Compounds, The 5th Sett...</td>\n",
       "      <td>356</td>\n",
       "      <td>9500000</td>\n",
       "      <td>Cairo</td>\n",
       "      <td>Egypt</td>\n",
       "      <td>buy</td>\n",
       "      <td>Villa</td>\n",
       "      <td>New Cairo City</td>\n",
       "    </tr>\n",
       "  </tbody>\n",
       "</table>\n",
       "</div>"
      ],
      "text/plain": [
       "  Baths Beds                                           Location Square Meter  \\\n",
       "0     6    5  Villette, 5th Settlement Compounds, The 5th Se...          360   \n",
       "1     4    4  Mivida, 5th Settlement Compounds, The 5th Sett...          407   \n",
       "2     3    4  Mivida, 5th Settlement Compounds, The 5th Sett...          280   \n",
       "3     2    3  Mountain View Hyde Park, 5th Settlement Compou...          166   \n",
       "4     3    4  Mivida, 5th Settlement Compounds, The 5th Sett...          356   \n",
       "\n",
       "   base_price   city country page property_type         sub_div  \n",
       "0     9800000  Cairo   Egypt  buy         Villa  New Cairo City  \n",
       "1     9000000  Cairo   Egypt  buy         Villa  New Cairo City  \n",
       "2     5600000  Cairo   Egypt  buy     Townhouse  New Cairo City  \n",
       "3     1850000  Cairo   Egypt  buy     Penthouse  New Cairo City  \n",
       "4     9500000  Cairo   Egypt  buy         Villa  New Cairo City  "
      ]
     },
     "execution_count": 3,
     "metadata": {},
     "output_type": "execute_result"
    }
   ],
   "source": [
    "df.head()"
   ]
  },
  {
   "cell_type": "code",
   "execution_count": 4,
   "metadata": {},
   "outputs": [],
   "source": [
    "df['base_price_log'] = np.log(df['base_price'])"
   ]
  },
  {
   "cell_type": "code",
   "execution_count": 5,
   "metadata": {},
   "outputs": [
    {
     "data": {
      "image/png": "[encoded data removed]",
      "text/plain": [
       "<Figure size 432x288 with 1 Axes>"
      ]
     },
     "metadata": {
      "needs_background": "light"
     },
     "output_type": "display_data"
    }
   ],
   "source": [
    "# Histogram of Cities\n",
    "plt.hist(df.loc[df['city'] == 'Cairo', 'base_price_log'], bins = 15)\n",
    "plt.title('Cairo House Price')\n",
    "plt.xlabel('ln(Price)')\n",
    "plt.ylabel('Count');"
   ]
  },
  {
   "cell_type": "code",
   "execution_count": 6,
   "metadata": {},
   "outputs": [
    {
     "data": {
      "text/plain": [
       "New Cairo City                  0.674966\n",
       "Hay El Maadi                    0.202557\n",
       "Zamalek                         0.066622\n",
       "Mokattam                        0.014805\n",
       "Heliopolis - Masr El Gedida     0.010094\n",
       "New Capital City                0.008748\n",
       "El Nozha                        0.006729\n",
       "Madinaty                        0.004038\n",
       "Nasr City                       0.004038\n",
       "Shorouk City                    0.002019\n",
       "Mostakbal City - Future City    0.001346\n",
       "Garden City                     0.001346\n",
       "Hay Shobra                      0.000673\n",
       "Downtown                        0.000673\n",
       "Ring Road                       0.000673\n",
       "New Heliopolis                  0.000673\n",
       "Name: sub_div, dtype: float64"
      ]
     },
     "execution_count": 6,
     "metadata": {},
     "output_type": "execute_result"
    }
   ],
   "source": [
    "# Checking the subdivision counts\n",
    "df['sub_div'].value_counts(normalize = True)"
   ]
  },
  {
   "cell_type": "code",
   "execution_count": 7,
   "metadata": {},
   "outputs": [
    {
     "data": {
      "image/png": "[encoded data removed]",
      "text/plain": [
       "<Figure size 432x288 with 1 Axes>"
      ]
     },
     "metadata": {
      "needs_background": "light"
     },
     "output_type": "display_data"
    }
   ],
   "source": [
    "# Histogram of sub-divisions\n",
    "#plt.hist(cairo_pf.loc[cairo_pf['sub_div'] == 'New Cairo City', 'price_usd_log'], bins = 15, label = 'New Cairo City')\n",
    "plt.hist(df.loc[df['sub_div'] == 'New Capital City', 'base_price_log'], bins = 10, label = 'New Capital City')\n",
    "plt.hist(df.loc[df['sub_div'] == 'Hay El Maadi', 'base_price_log'], bins = 10, alpha = 0.5, label = 'Hay El Maadi')\n",
    "plt.hist(df.loc[df['sub_div'] == 'Heliopolis - Masr El Gedida', 'base_price_log'], bins = 10, alpha = 0.5, label = 'Heliopolis - Masr El Gedida')\n",
    "plt.hist(df.loc[df['sub_div'] == 'Shorouk City', 'base_price_log'], bins = 10, alpha = 0.5, label = 'Shorouk City')\n",
    "plt.legend()\n",
    "plt.xlabel(\"Log Price\");"
   ]
  },
  {
   "cell_type": "code",
   "execution_count": 8,
   "metadata": {},
   "outputs": [
    {
     "data": {
      "text/plain": [
       "Apartment           0.349933\n",
       "Office Space        0.221400\n",
       "Villa               0.183715\n",
       "Twin House          0.049798\n",
       "Townhouse           0.040377\n",
       "Duplex              0.032301\n",
       "Shop                0.023553\n",
       "Retail              0.021534\n",
       "Penthouse           0.020188\n",
       "Whole Building      0.019515\n",
       "iVilla              0.014805\n",
       "Medical Facility    0.011440\n",
       "Full Floor          0.004038\n",
       "Bulk Rent Unit      0.002019\n",
       "Bulk Sale Unit      0.001346\n",
       "Warehouse           0.001346\n",
       "Hotel Apartment     0.001346\n",
       "Show Room           0.000673\n",
       "Half Floor          0.000673\n",
       "Name: property_type, dtype: float64"
      ]
     },
     "execution_count": 8,
     "metadata": {},
     "output_type": "execute_result"
    }
   ],
   "source": [
    "# Checking the property types\n",
    "df['property_type'].value_counts(normalize = True)"
   ]
  },
  {
   "cell_type": "code",
   "execution_count": 10,
   "metadata": {},
   "outputs": [
    {
     "data": {
      "image/png": "[encoded data removed]",
      "text/plain": [
       "<Figure size 432x288 with 1 Axes>"
      ]
     },
     "metadata": {
      "needs_background": "light"
     },
     "output_type": "display_data"
    }
   ],
   "source": [
    "# Histogram of property_type\n",
    "plt.hist(df.loc[df['property_type'] == 'Apartment', 'base_price_log'], bins = 15, label = 'Apartment')\n",
    "plt.hist(df.loc[df['property_type'] == 'Villa', 'base_price_log'], bins = 15, label = 'Villa')\n",
    "plt.hist(df.loc[df['property_type'] == 'Twin House', 'base_price_log'], bins = 15, alpha = 0.9, label = 'Twin House')\n",
    "plt.hist(df.loc[df['property_type'] == 'Townhouse', 'base_price_log'], bins = 15, alpha = 0.65, label = 'Townhouse')\n",
    "plt.hist(df.loc[df['property_type'] == 'Chalet', 'base_price_log'], bins = 15, alpha = 0.8, label = 'Chalet')\n",
    "plt.hist(df.loc[df['property_type'] == 'Duplex', 'base_price_log'], bins = 15, label = 'Duplex')\n",
    "plt.hist(df.loc[df['property_type'] == 'iVilla', 'base_price_log'], bins = 15, label = 'iVilla')\n",
    "plt.hist(df.loc[df['property_type'] == 'Penthouse', 'base_price_log'], bins = 15, alpha = 0.7, label = 'Penthouse')\n",
    "plt.hist(df.loc[df['property_type'] == 'Hotel Apartment', 'base_price_log'], bins = 15, alpha = 0.7, label = 'Hotel Apartment')\n",
    "plt.hist(df.loc[df['property_type'] == 'Whole Building', 'base_price_log'], bins = 15, alpha = 0.6, label = 'Whole Building')\n",
    "plt.legend()\n",
    "plt.xlabel(\"Log Price\");"
   ]
  }
 ],
 "metadata": {
  "kernelspec": {
   "display_name": "Python 3",
   "language": "python",
   "name": "python3"
  },
  "language_info": {
   "codemirror_mode": {
    "name": "ipython",
    "version": 3
   },
   "file_extension": ".py",
   "mimetype": "text/x-python",
   "name": "python",
   "nbconvert_exporter": "python",
   "pygments_lexer": "ipython3",
   "version": "3.7.4"
  }
 },
 "nbformat": 4,
 "nbformat_minor": 2
}
