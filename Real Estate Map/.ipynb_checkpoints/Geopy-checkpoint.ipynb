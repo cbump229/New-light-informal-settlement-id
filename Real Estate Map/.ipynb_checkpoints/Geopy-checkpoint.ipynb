{
 "cells": [
  {
   "cell_type": "markdown",
   "metadata": {},
   "source": [
    "# Geopy"
   ]
  },
  {
   "cell_type": "code",
   "execution_count": null,
   "metadata": {},
   "outputs": [],
   "source": [
    "# pip install geopy"
   ]
  },
  {
   "cell_type": "code",
   "execution_count": 7,
   "metadata": {},
   "outputs": [],
   "source": [
    "import pandas as pd\n",
    "import numpy as np\n",
    "import matplotlib.pyplot as plt\n",
    "from geopy.geocoders import Nominatim\n",
    "import time"
   ]
  },
  {
   "cell_type": "code",
   "execution_count": 8,
   "metadata": {},
   "outputs": [],
   "source": [
    "df = pd.read_csv('./CSVs/propertyfinder.csv', skipinitialspace=True)\n",
    "df.drop(columns = 'Unnamed: 0', inplace = True)"
   ]
  },
  {
   "cell_type": "code",
   "execution_count": 9,
   "metadata": {
    "scrolled": true
   },
   "outputs": [
    {
     "data": {
      "text/html": [
       "<div>\n",
       "<style scoped>\n",
       "    .dataframe tbody tr th:only-of-type {\n",
       "        vertical-align: middle;\n",
       "    }\n",
       "\n",
       "    .dataframe tbody tr th {\n",
       "        vertical-align: top;\n",
       "    }\n",
       "\n",
       "    .dataframe thead th {\n",
       "        text-align: right;\n",
       "    }\n",
       "</style>\n",
       "<table border=\"1\" class=\"dataframe\">\n",
       "  <thead>\n",
       "    <tr style=\"text-align: right;\">\n",
       "      <th></th>\n",
       "      <th>Location</th>\n",
       "      <th>price_EGP</th>\n",
       "      <th>price_usd</th>\n",
       "      <th>property_type</th>\n",
       "      <th>Beds</th>\n",
       "      <th>Baths</th>\n",
       "      <th>Square Meter</th>\n",
       "      <th>city</th>\n",
       "      <th>sub_div</th>\n",
       "    </tr>\n",
       "  </thead>\n",
       "  <tbody>\n",
       "    <tr>\n",
       "      <th>0</th>\n",
       "      <td>Palm Hills Kattameya, El Katameya Compounds, E...</td>\n",
       "      <td>9413000.0</td>\n",
       "      <td>148348880.0</td>\n",
       "      <td>Villa</td>\n",
       "      <td>5</td>\n",
       "      <td>4</td>\n",
       "      <td>366</td>\n",
       "      <td>Cairo</td>\n",
       "      <td>New Cairo City</td>\n",
       "    </tr>\n",
       "    <tr>\n",
       "      <th>1</th>\n",
       "      <td>Al Hayat Resort, Al Ain Al Sokhna, Suez</td>\n",
       "      <td>1100000.0</td>\n",
       "      <td>17336000.0</td>\n",
       "      <td>Chalet</td>\n",
       "      <td>3</td>\n",
       "      <td>2</td>\n",
       "      <td>187</td>\n",
       "      <td>Suez</td>\n",
       "      <td>Al Ain Al Sokhna</td>\n",
       "    </tr>\n",
       "    <tr>\n",
       "      <th>2</th>\n",
       "      <td>Stone Park, 5th Settlement Compounds, The 5th ...</td>\n",
       "      <td>8500000.0</td>\n",
       "      <td>133960000.0</td>\n",
       "      <td>Villa</td>\n",
       "      <td>6</td>\n",
       "      <td>5</td>\n",
       "      <td>470</td>\n",
       "      <td>Cairo</td>\n",
       "      <td>New Cairo City</td>\n",
       "    </tr>\n",
       "    <tr>\n",
       "      <th>3</th>\n",
       "      <td>Mivida, 5th Settlement Compounds, The 5th Sett...</td>\n",
       "      <td>6200000.0</td>\n",
       "      <td>97712000.0</td>\n",
       "      <td>Twin House</td>\n",
       "      <td>4</td>\n",
       "      <td>3</td>\n",
       "      <td>357</td>\n",
       "      <td>Cairo</td>\n",
       "      <td>New Cairo City</td>\n",
       "    </tr>\n",
       "    <tr>\n",
       "      <th>4</th>\n",
       "      <td>Villette, 5th Settlement Compounds, The 5th Se...</td>\n",
       "      <td>10000000.0</td>\n",
       "      <td>157600000.0</td>\n",
       "      <td>Villa</td>\n",
       "      <td>5</td>\n",
       "      <td>5</td>\n",
       "      <td>430</td>\n",
       "      <td>Cairo</td>\n",
       "      <td>New Cairo City</td>\n",
       "    </tr>\n",
       "  </tbody>\n",
       "</table>\n",
       "</div>"
      ],
      "text/plain": [
       "                                            Location   price_EGP    price_usd  \\\n",
       "0  Palm Hills Kattameya, El Katameya Compounds, E...   9413000.0  148348880.0   \n",
       "1            Al Hayat Resort, Al Ain Al Sokhna, Suez   1100000.0   17336000.0   \n",
       "2  Stone Park, 5th Settlement Compounds, The 5th ...   8500000.0  133960000.0   \n",
       "3  Mivida, 5th Settlement Compounds, The 5th Sett...   6200000.0   97712000.0   \n",
       "4  Villette, 5th Settlement Compounds, The 5th Se...  10000000.0  157600000.0   \n",
       "\n",
       "  property_type Beds Baths Square Meter   city           sub_div  \n",
       "0         Villa    5     4          366  Cairo    New Cairo City  \n",
       "1        Chalet    3     2          187   Suez  Al Ain Al Sokhna  \n",
       "2         Villa    6     5          470  Cairo    New Cairo City  \n",
       "3    Twin House    4     3          357  Cairo    New Cairo City  \n",
       "4         Villa    5     5          430  Cairo    New Cairo City  "
      ]
     },
     "execution_count": 9,
     "metadata": {},
     "output_type": "execute_result"
    }
   ],
   "source": [
    "df.head()"
   ]
  },
  {
   "cell_type": "code",
   "execution_count": 10,
   "metadata": {
    "scrolled": false
   },
   "outputs": [
    {
     "data": {
      "text/plain": [
       "Mivida, 5th Settlement Compounds, The 5th Settlement, New Cairo City, Cairo                     120\n",
       "Mountain View Hyde Park, 5th Settlement Compounds, The 5th Settlement, New Cairo City, Cairo     44\n",
       "Hyde Park, 5th Settlement Compounds, The 5th Settlement, New Cairo City, Cairo                   41\n",
       "Villette, 5th Settlement Compounds, The 5th Settlement, New Cairo City, Cairo                    32\n",
       "Cairo Festival City, North Investors Area, New Cairo City, Cairo                                 31\n",
       "                                                                                               ... \n",
       "El Narges Buildings, Al Narges, New Cairo City, Cairo                                             1\n",
       "La Vista 6, La Vista, Al Ain Al Sokhna, Suez                                                      1\n",
       "Al Katameya Plaza, The 1st Settlement, New Cairo City, Cairo                                      1\n",
       "Aroma Beach, Al Ain Al Sokhna, Suez                                                               1\n",
       "La Mirada Compound, 5th Settlement Compounds, The 5th Settlement, New Cairo City, Cairo           1\n",
       "Name: Location, Length: 158, dtype: int64"
      ]
     },
     "execution_count": 10,
     "metadata": {},
     "output_type": "execute_result"
    }
   ],
   "source": [
    "# Checking the location value counts\n",
    "df['Location'].value_counts()"
   ]
  },
  {
   "cell_type": "markdown",
   "metadata": {},
   "source": [
    "# Finding lat - long for sub div"
   ]
  },
  {
   "cell_type": "code",
   "execution_count": 15,
   "metadata": {},
   "outputs": [],
   "source": [
    "# Al Ain Al Sokhna is not found in the geolocator\n",
    "df.drop(df.loc[df['sub_div'] == 'Al Ain Al Sokhna'].index, inplace = True)"
   ]
  },
  {
   "cell_type": "code",
   "execution_count": 16,
   "metadata": {},
   "outputs": [],
   "source": [
    "# Mostakbal City - Future City is not found the geolocator\n",
    "df.drop(df.loc[df['sub_div'] == 'Mostakbal City - Future City'].index, inplace = True)"
   ]
  },
  {
   "cell_type": "code",
   "execution_count": 17,
   "metadata": {},
   "outputs": [],
   "source": [
    "# Qesm Ad Dabaahis is not found in the geolocator \n",
    "df.drop(df.loc[df['sub_div'] == 'Qesm Ad Dabaah'].index, inplace = True)"
   ]
  },
  {
   "cell_type": "code",
   "execution_count": 18,
   "metadata": {},
   "outputs": [],
   "source": [
    "# New Capital City is not found in the geolocator\n",
    "df.drop(df.loc[df['sub_div'] == 'New Capital City'].index, inplace = True)"
   ]
  },
  {
   "cell_type": "code",
   "execution_count": 19,
   "metadata": {},
   "outputs": [],
   "source": [
    "# Dokki is not found in the geolocator\n",
    "df.drop(df.loc[df['sub_div'] == 'Dokki'].index, inplace = True)"
   ]
  },
  {
   "cell_type": "code",
   "execution_count": 20,
   "metadata": {},
   "outputs": [],
   "source": [
    "# Al Alamein is not found in the geolocator\n",
    "df.drop(df.loc[df['sub_div'] == 'Al Alamein'].index, inplace = True)"
   ]
  },
  {
   "cell_type": "code",
   "execution_count": 21,
   "metadata": {},
   "outputs": [],
   "source": [
    "# Hacienda is not found in the geolocator\n",
    "df.drop(df.loc[df['sub_div'] == 'Hacienda'].index, inplace = True)"
   ]
  },
  {
   "cell_type": "code",
   "execution_count": 22,
   "metadata": {},
   "outputs": [],
   "source": [
    "# El Nozha is not found in the geolocator\n",
    "df.drop(df.loc[df['sub_div'] == 'El Nozha'].index, inplace = True)"
   ]
  },
  {
   "cell_type": "code",
   "execution_count": 25,
   "metadata": {
    "scrolled": true
   },
   "outputs": [
    {
     "data": {
      "text/plain": [
       "[{'New Cairo City': (30.02012785, 31.498220627134504)},\n",
       " {'Hurghada': (27.222556, 33.8307062)},\n",
       " {'Sheikh Zayed City': (30.048347, 30.9832235)},\n",
       " {'New Heliopolis': (30.1180968, 31.6925603)},\n",
       " {'Hay El Maadi': (29.9925522, 31.2793916)},\n",
       " {'6 October City': (31.08086685, 29.724904831435097)},\n",
       " {'Heliopolis - Masr El Gedida': (30.0971669, 31.328119)},\n",
       " {'Sidi Abdel Rahman': (25.6925166, 32.6393288)},\n",
       " {'Shorouk City': (30.149150650000003, 31.629114053470285)},\n",
       " {'Mokattam': (30.033333, 31.283333)},\n",
       " {'Markaz Al Hamam': (26.9515846, 31.44313090775443)},\n",
       " {'New Alamein City': (30.833944, 28.949268)},\n",
       " {'Mohandessin': (30.05839515, 31.202015061173206)},\n",
       " {'Madinaty': (30.0916925, 31.6238026)},\n",
       " {'Zamalek': (30.0649721, 31.2195945)}]"
      ]
     },
     "execution_count": 25,
     "metadata": {},
     "output_type": "execute_result"
    }
   ],
   "source": [
    "locations = []\n",
    "for i in df['sub_div'].unique():\n",
    "    geolocator = Nominatim(user_agent = \"my-application\")\n",
    "    location = geolocator.geocode(i)\n",
    "    locations.append({i: (location.latitude, location.longitude)})\n",
    "    time.sleep(2)\n",
    "locations"
   ]
  },
  {
   "cell_type": "code",
   "execution_count": 26,
   "metadata": {},
   "outputs": [
    {
     "data": {
      "text/plain": [
       "[{'New Cairo City': (30.02012785, 31.498220627134504)},\n",
       " {'Hurghada': (27.222556, 33.8307062)},\n",
       " {'Sheikh Zayed City': (30.048347, 30.9832235)},\n",
       " {'New Heliopolis': (30.1180968, 31.6925603)},\n",
       " {'Hay El Maadi': (29.9925522, 31.2793916)},\n",
       " {'6 October City': (31.08086685, 29.724904831435097)},\n",
       " {'Heliopolis - Masr El Gedida': (30.0971669, 31.328119)},\n",
       " {'Sidi Abdel Rahman': (25.6925166, 32.6393288)},\n",
       " {'Shorouk City': (30.149150650000003, 31.629114053470285)},\n",
       " {'Mokattam': (30.033333, 31.283333)},\n",
       " {'Markaz Al Hamam': (26.9515846, 31.44313090775443)},\n",
       " {'New Alamein City': (30.833944, 28.949268)},\n",
       " {'Mohandessin': (30.05839515, 31.202015061173206)},\n",
       " {'Madinaty': (30.0916925, 31.6238026)},\n",
       " {'Zamalek': (30.0649721, 31.2195945)}]"
      ]
     },
     "execution_count": 26,
     "metadata": {},
     "output_type": "execute_result"
    }
   ],
   "source": [
    "locations"
   ]
  },
  {
   "cell_type": "markdown",
   "metadata": {},
   "source": [
    "# Appending all missing locations"
   ]
  },
  {
   "cell_type": "code",
   "execution_count": 16,
   "metadata": {},
   "outputs": [],
   "source": [
    "locations.append({'Al Ain Al Sokhna': (29.6725, 32.3370)})"
   ]
  },
  {
   "cell_type": "code",
   "execution_count": 17,
   "metadata": {},
   "outputs": [],
   "source": [
    "locations.append({'Mostakbal City - Future City': (30.026300, 31.496773)})"
   ]
  },
  {
   "cell_type": "code",
   "execution_count": 18,
   "metadata": {},
   "outputs": [],
   "source": [
    "locations.append({'Qesm Ad Dabaahis': (31.0274, 28.4431)})"
   ]
  },
  {
   "cell_type": "code",
   "execution_count": 19,
   "metadata": {},
   "outputs": [],
   "source": [
    "locations.append({'New Capital City': (30.0444, 31.2357)})"
   ]
  },
  {
   "cell_type": "code",
   "execution_count": 20,
   "metadata": {},
   "outputs": [],
   "source": [
    "locations.append({'Dokki': (30.0395, 31.2025)})"
   ]
  },
  {
   "cell_type": "code",
   "execution_count": 21,
   "metadata": {},
   "outputs": [],
   "source": [
    "locations.append({'Al Alamein': (30.8225, 28.9543)})"
   ]
  },
  {
   "cell_type": "code",
   "execution_count": 22,
   "metadata": {},
   "outputs": [],
   "source": [
    "locations.append({'Hacienda': (31.2001, 29.9187)})"
   ]
  },
  {
   "cell_type": "code",
   "execution_count": 23,
   "metadata": {},
   "outputs": [],
   "source": [
    "locations.append({'El Nozha': (30.1074, 31.3885)})"
   ]
  },
  {
   "cell_type": "code",
   "execution_count": 24,
   "metadata": {},
   "outputs": [
    {
     "data": {
      "text/plain": [
       "[{'New Cairo City': (30.02012785, 31.498220627134504)},\n",
       " {'Hurghada': (27.2405016, 33.8267842)},\n",
       " {'Sheikh Zayed City': (30.048347, 30.9832235)},\n",
       " {'New Heliopolis': (30.1180968, 31.6925603)},\n",
       " {'Hay El Maadi': (29.9925522, 31.2793916)},\n",
       " {'6 October City': (31.08086685, 29.724904831435097)},\n",
       " {'Heliopolis - Masr El Gedida': (30.0971588, 31.3280332)},\n",
       " {'Sidi Abdel Rahman': (25.6925148, 32.6402093)},\n",
       " {'Shorouk City': (26.1216587, 34.25534830418983)},\n",
       " {'Mokattam': (30.033333, 31.283333)},\n",
       " {'Markaz Al Hamam': (26.9515846, 31.44313090775443)},\n",
       " {'New Alamein City': (30.833944, 28.949268)},\n",
       " {'Mohandessin': (30.070318450000002, 31.342798339276484)},\n",
       " {'Madinaty': (30.0916925, 31.6238026)},\n",
       " {'Zamalek': (30.0649721, 31.2195945)},\n",
       " {'Al Ain Al Sokhna': (29.6725, 32.337)},\n",
       " {'Mostakbal City - Future City': (30.0263, 31.496773)},\n",
       " {'Qesm Ad Dabaahis': (31.0274, 28.4431)},\n",
       " {'New Capital City': (30.0444, 31.2357)},\n",
       " {'Dokki': (30.0395, 31.2025)},\n",
       " {'Al Alamein': (30.8225, 28.9543)},\n",
       " {'Hacienda': (31.2001, 29.9187)},\n",
       " {'El Nozha': (30.1074, 31.3885)}]"
      ]
     },
     "execution_count": 24,
     "metadata": {},
     "output_type": "execute_result"
    }
   ],
   "source": [
    "locations"
   ]
  },
  {
   "cell_type": "code",
   "execution_count": null,
   "metadata": {},
   "outputs": [],
   "source": []
  }
 ],
 "metadata": {
  "kernelspec": {
   "display_name": "Python 3",
   "language": "python",
   "name": "python3"
  },
  "language_info": {
   "codemirror_mode": {
    "name": "ipython",
    "version": 3
   },
   "file_extension": ".py",
   "mimetype": "text/x-python",
   "name": "python",
   "nbconvert_exporter": "python",
   "pygments_lexer": "ipython3",
   "version": "3.7.4"
  }
 },
 "nbformat": 4,
 "nbformat_minor": 2
}
