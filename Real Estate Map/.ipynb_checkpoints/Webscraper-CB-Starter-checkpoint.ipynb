{
 "cells": [
  {
   "cell_type": "markdown",
   "metadata": {},
   "source": [
    "Web Scraper for Housing data\n"
   ]
  },
  {
   "cell_type": "code",
   "execution_count": 1,
   "metadata": {},
   "outputs": [],
   "source": [
    "import requests\n",
    "import pandas as pd\n",
    "from bs4 import BeautifulSoup\n",
    "import time\n",
    "\n",
    "import geopandas as gpd\n",
    "import geopy\n",
    "from geopy.geocoders import Nominatim , ArcGIS\n",
    "from geopy.exc import GeocoderTimedOut\n",
    "\n",
    "\n"
   ]
  },
  {
   "cell_type": "markdown",
   "metadata": {},
   "source": [
    "### conversion rates"
   ]
  },
  {
   "cell_type": "code",
   "execution_count": 2,
   "metadata": {},
   "outputs": [],
   "source": [
    "#update this if you'd like more current prices\n",
    "dollar_converter = 15.73 # 1 USD = XXXX EGP - Egypt Pound \n",
    "\n",
    "#last update: 02/12/2019\n"
   ]
  },
  {
   "cell_type": "markdown",
   "metadata": {},
   "source": [
    "### urls and slugs"
   ]
  },
  {
   "cell_type": "code",
   "execution_count": 3,
   "metadata": {},
   "outputs": [],
   "source": [
    "egypt_url = \"https://www.propertyfinder.eg/en/\""
   ]
  },
  {
   "cell_type": "code",
   "execution_count": 4,
   "metadata": {},
   "outputs": [],
   "source": [
    "egypt_sale_slug = 'buy/properties-for-sale.html'\n",
    "egypt_rental_slug = 'rent/properties-for-rent.html'\n",
    "egypt_comm_slug = 'commercial-rent/properties-for-rent.html'\n",
    "egypt_proj_slug = 'new-projects'"
   ]
  },
  {
   "cell_type": "markdown",
   "metadata": {},
   "source": [
    "### List Variables for functions"
   ]
  },
  {
   "cell_type": "markdown",
   "metadata": {},
   "source": [
    "#### Disclaimer: all variables must have same relative order to keep: <br> buy with buy,<br> rent with rent, <br>commercial with commercial, <br>new projects with new projects"
   ]
  },
  {
   "cell_type": "code",
   "execution_count": 5,
   "metadata": {},
   "outputs": [],
   "source": [
    "# order of website category menus to pull - these will also be stored as an attribute in a row of data\n",
    "egypt_order_list = ['buy','rent','commercial','new project']\n",
    "\n",
    "#list of slugs to add onto url, must be in same order as order list\n",
    "egypt_slug_list = [ egypt_sale_slug,egypt_rental_slug,egypt_comm_slug, egypt_proj_slug]\n",
    "\n",
    "#number of pages to pull from each category\n",
    "num_pages = 2   "
   ]
  },
  {
   "cell_type": "markdown",
   "metadata": {},
   "source": [
    "### make soup list to be used in function later"
   ]
  },
  {
   "cell_type": "code",
   "execution_count": 6,
   "metadata": {
    "scrolled": true
   },
   "outputs": [
    {
     "name": "stdout",
     "output_type": "stream",
     "text": [
      "200\n",
      "200\n",
      "200\n",
      "200\n"
     ]
    }
   ],
   "source": [
    "#creates a soup object for the first webpage under each category\n",
    "egypt_soup_list = []\n",
    "\n",
    "for i in egypt_slug_list:\n",
    "    res = requests.get(egypt_url + i)\n",
    "    print(res.status_code)\n",
    "    \n",
    "    soup = BeautifulSoup(res.content, 'lxml')\n",
    "    \n",
    "    #all items in the list will have the exact same name(soup) but this should be irrelevant due to automation\n",
    "    egypt_soup_list.append(soup)\n",
    "    time.sleep(1)"
   ]
  },
  {
   "cell_type": "markdown",
   "metadata": {},
   "source": [
    "### Disclaimer:  Length of slug list, soup list and order list must be the same"
   ]
  },
  {
   "cell_type": "markdown",
   "metadata": {},
   "source": [
    "### Scrape functions"
   ]
  },
  {
   "cell_type": "code",
   "execution_count": 7,
   "metadata": {},
   "outputs": [],
   "source": [
    "# create soup object before running function\n",
    "# type_col as string of site type { rent,buy,commercial , new projects }\n",
    "# country as string name of Country { Egypt, United Arab Emirates, etc.... }\n",
    "# Scrapes the first pages of a site to produce a pandas database that will be appended later.\n",
    "\n",
    "def first_scrape(soup_obj,type_col, country):\n",
    "    # empty lists to store website text\n",
    "    loc_list = []\n",
    "    beds_list = []\n",
    "    baths_list = []\n",
    "    sqm_list = []\n",
    "    price_list = [] \n",
    "    prop_types_list = []\n",
    "    city_list = []\n",
    "    subdiv_list = []\n",
    "    n=0\n",
    "    \n",
    "    # pull text out of the website data and store into variables\n",
    "    location = soup_obj.find_all('p',{'class':\"card__location\"})\n",
    "    beds = soup_obj.find_all('p',{'class':\"card__property-amenity card__property-amenity--bedrooms\"})\n",
    "    baths = soup_obj.find_all('p',{'class':\"card__property-amenity card__property-amenity--bathrooms\"})\n",
    "    sqm = soup_obj.find_all('p',{'class':\"card__property-amenity card__property-amenity--area\"})\n",
    "    price = soup_obj.find_all('p',{'class':\"card__price\"})\n",
    "    prop_types = soup_obj.find_all('p',{'class':'card__property-amenity card__property-amenity--property-type'})\n",
    "    \n",
    "    # add individual locations into loc_list\n",
    "    for i in location:\n",
    "        loc_list.append(i.text.strip())\n",
    "        \n",
    "    # each full location string contains up to 5 different comma sperated strings, \n",
    "    for i in loc_list:\n",
    "        #final item in string is city\n",
    "        city_list.append(loc_list[n].split(\",\")[-1:])\n",
    "        # 2nd to last item is the primary subdivision\n",
    "        subdiv_list.append(loc_list[n].split(\",\")[-2:-1])\n",
    "        n+=1 \n",
    "\n",
    "    # create list with # of beds\n",
    "    for i in beds:\n",
    "        beds_list.append(i.text.strip())\n",
    "    \n",
    "    # create list with # of baths    \n",
    "    for i in baths:\n",
    "        baths_list.append(i.text.strip())\n",
    "        \n",
    "    # create list of square meters by replacing commas first, then replacing extra characters\n",
    "    for i in sqm:\n",
    "        sqm_list.append(i.text.replace(\" \",'').replace(\"/\",'').replace(\"sqm\",''))\n",
    "\n",
    "    # create list of prices\n",
    "    for i in price:\n",
    "        price_str=i.text.strip().replace(\",\",\"\") # remove commas to ensure price is a single number\n",
    "        price_clean = [int(s) for s in price_str.split() if s.isdigit()] # remove extra spaces and characters\n",
    "        price_list.append(price_clean)   \n",
    "    \n",
    "    # create list of property types\n",
    "    for i in prop_types:\n",
    "        prop_types_list.append(i.text.strip())\n",
    "    \n",
    "    # after loops have ran create seperate dataframes for each attribute using their relative lists\n",
    "    loc_df   = pd.DataFrame(loc_list,columns=[\"Location\"])\n",
    "    price_df = pd.DataFrame(price_list, columns=[\"base_price\"])\n",
    "    prop_df  = pd.DataFrame(prop_types_list, columns=[\"property_type\"])\n",
    "    bath_df  = pd.DataFrame(baths_list,columns=['Baths'])\n",
    "    bed_df   = pd.DataFrame(beds_list,columns=['Beds'])\n",
    "    sqm_df   = pd.DataFrame(sqm_list,columns=['Square Meter'])\n",
    "    city_df = pd.DataFrame(city_list,columns=[\"city\"])\n",
    "    subdiv_df = pd.DataFrame(subdiv_list,columns=[\"sub_div\"])\n",
    "    \n",
    "    \n",
    "    # Join all databases together\n",
    "    return_df = loc_df.join(price_df,lsuffix='_caller',rsuffix='_other')\n",
    "    return_df['price_usd'] = (return_df['base_price']) / (dollar_converter)\n",
    "    return_df = return_df.join(prop_df,lsuffix='_caller',rsuffix='_other')\n",
    "    return_df = return_df.join(bed_df,lsuffix='_caller',rsuffix='_other')\n",
    "    return_df = return_df.join(bath_df,lsuffix='_caller',rsuffix='_other')\n",
    "    return_df = return_df.join(sqm_df,lsuffix='_caller',rsuffix='_other')\n",
    "    return_df = return_df.join(subdiv_df,lsuffix='_caller',rsuffix='_other')\n",
    "    return_df = return_df.join(city_df,lsuffix='_caller',rsuffix='_other')\n",
    "    return_df[\"country\"] = country\n",
    "    return_df[\"page\"] = type_col\n",
    "    \n",
    "    \n",
    "    return return_df\n"
   ]
  },
  {
   "cell_type": "code",
   "execution_count": 8,
   "metadata": {},
   "outputs": [],
   "source": [
    "# create dataframe object before running function\n",
    "# target_url as Country specific target url{ egypt_url, uae_url, etc...}\n",
    "# target_slug as type specific url slug - \n",
    "#            this will appened the type onto the url to specifiy buy,rent,commericial,new\n",
    "\n",
    "# type_col as string of site type to create a column \n",
    "                 #in database of property type{ rent,buy,commercial ,new projects }\n",
    "\n",
    "    \n",
    "# country as string name of Country to create column with country name{ Egypt, United Arab Emirates, etc.... }\n",
    "\n",
    "\n",
    "def append_first_scrape (target_url, target_slug, end_page, dataframe, type_col, country):\n",
    "    # start at 2 because the first function already gets page 1\n",
    "    for i in range(2,(end_page+1)):\n",
    "        page = f'?page={i}'\n",
    "        res = requests.get(target_url + target_slug+ page)\n",
    "        print(f\"scraping {target_url}{target_slug}{page}\")\n",
    "        soup = BeautifulSoup(res.content,'lxml')\n",
    "        \n",
    "        inner_scrape_df = first_scrape(soup,type_col, country)\n",
    "        dataframe = dataframe.append(inner_scrape_df,ignore_index=True,sort=True)\n",
    "        \n",
    "        time.sleep(60) #keep in or get banned from the website\n",
    "                        # Attempts to set it any lower result in getting temporary blocked by the site\n",
    "                        # if trying to pull  5+ number of pages\n",
    "\n",
    "    return dataframe"
   ]
  },
  {
   "cell_type": "code",
   "execution_count": 9,
   "metadata": {},
   "outputs": [],
   "source": [
    "# This function combines first_scrape and append_first_scrape to be used in one function\n",
    "\n",
    "#  Url : primary url , without any slugs\n",
    "#  slug_list : list of slugs created at top of notebook\n",
    "#  soups_list : list of beautiful soup objects\n",
    "#  order_list : list of  menus that will be iterated through\n",
    "#  num_iter : number of pages to scrape for each menu\n",
    "\n",
    "\n",
    "def egypt_property_web_scraper(url, slug_list, soups_list, order_list,num_iter):\n",
    "    # zip together lists - this is why relative order of the lists must be the same\n",
    "    zipped = zip(soups_list, slug_list,order_list)\n",
    "    zipped_list = list(zipped)\n",
    "    \n",
    "    export_df = pd.DataFrame()#empty dataframe\n",
    "    \n",
    "    for soup ,slug , sale in zipped_list:\n",
    "        #soup - one beautiful soup object per iteration\n",
    "        #slug - one slug object per iteration\n",
    "        #sale - one sale object per iteration\n",
    "        first_df = first_scrape(soup,type_col=sale,country=\"Egypt\")\n",
    "        second_df = append_first_scrape(url,slug,num_iter, first_df,type_col=sale,country = \"Egypt\")\n",
    "        export_df = export_df.append(second_df, ignore_index=True,sort=True)\n",
    "        \n",
    "        time.sleep(30) #keep in or get banned from the website\n",
    "                        # Attempts to set it any lower result in getting temporary blocked by the site\n",
    "                        # if trying to pull  5+ number of pages\n",
    "        \n",
    "    return export_df"
   ]
  },
  {
   "cell_type": "code",
   "execution_count": 10,
   "metadata": {
    "scrolled": true
   },
   "outputs": [
    {
     "name": "stdout",
     "output_type": "stream",
     "text": [
      "scraping https://www.propertyfinder.eg/en/buy/properties-for-sale.html?page=2\n",
      "scraping https://www.propertyfinder.eg/en/rent/properties-for-rent.html?page=2\n",
      "scraping https://www.propertyfinder.eg/en/commercial-rent/properties-for-rent.html?page=2\n",
      "scraping https://www.propertyfinder.eg/en/new-projects?page=2\n"
     ]
    }
   ],
   "source": [
    "df = egypt_property_web_scraper(egypt_url, egypt_slug_list, egypt_soup_list, egypt_order_list,num_pages)"
   ]
  },
  {
   "cell_type": "code",
   "execution_count": 11,
   "metadata": {
    "scrolled": true
   },
   "outputs": [
    {
     "data": {
      "text/plain": [
       "(150, 11)"
      ]
     },
     "execution_count": 11,
     "metadata": {},
     "output_type": "execute_result"
    }
   ],
   "source": [
    "df.shape"
   ]
  },
  {
   "cell_type": "code",
   "execution_count": 12,
   "metadata": {
    "scrolled": true
   },
   "outputs": [
    {
     "data": {
      "text/html": [
       "<div>\n",
       "<style scoped>\n",
       "    .dataframe tbody tr th:only-of-type {\n",
       "        vertical-align: middle;\n",
       "    }\n",
       "\n",
       "    .dataframe tbody tr th {\n",
       "        vertical-align: top;\n",
       "    }\n",
       "\n",
       "    .dataframe thead th {\n",
       "        text-align: right;\n",
       "    }\n",
       "</style>\n",
       "<table border=\"1\" class=\"dataframe\">\n",
       "  <thead>\n",
       "    <tr style=\"text-align: right;\">\n",
       "      <th></th>\n",
       "      <th>Baths</th>\n",
       "      <th>Beds</th>\n",
       "      <th>Location</th>\n",
       "      <th>Square Meter</th>\n",
       "      <th>base_price</th>\n",
       "      <th>city</th>\n",
       "      <th>country</th>\n",
       "      <th>page</th>\n",
       "      <th>price_usd</th>\n",
       "      <th>property_type</th>\n",
       "      <th>sub_div</th>\n",
       "    </tr>\n",
       "  </thead>\n",
       "  <tbody>\n",
       "    <tr>\n",
       "      <th>0</th>\n",
       "      <td>4</td>\n",
       "      <td>4</td>\n",
       "      <td>Hyde Park, 5th Settlement Compounds, The 5th S...</td>\n",
       "      <td>236</td>\n",
       "      <td>2250000</td>\n",
       "      <td>Cairo</td>\n",
       "      <td>Egypt</td>\n",
       "      <td>buy</td>\n",
       "      <td>143038.779402</td>\n",
       "      <td>Apartment</td>\n",
       "      <td>New Cairo City</td>\n",
       "    </tr>\n",
       "    <tr>\n",
       "      <th>1</th>\n",
       "      <td>5</td>\n",
       "      <td>4</td>\n",
       "      <td>Allegria, Sheikh Zayed Compounds, Sheikh Zayed...</td>\n",
       "      <td>470</td>\n",
       "      <td>7200000</td>\n",
       "      <td>Giza</td>\n",
       "      <td>Egypt</td>\n",
       "      <td>buy</td>\n",
       "      <td>457724.094088</td>\n",
       "      <td>Villa</td>\n",
       "      <td>Sheikh Zayed City</td>\n",
       "    </tr>\n",
       "    <tr>\n",
       "      <th>2</th>\n",
       "      <td>3</td>\n",
       "      <td>3</td>\n",
       "      <td>Hyde Park, 5th Settlement Compounds, The 5th S...</td>\n",
       "      <td>211</td>\n",
       "      <td>2700000</td>\n",
       "      <td>Cairo</td>\n",
       "      <td>Egypt</td>\n",
       "      <td>buy</td>\n",
       "      <td>171646.535283</td>\n",
       "      <td>Apartment</td>\n",
       "      <td>New Cairo City</td>\n",
       "    </tr>\n",
       "    <tr>\n",
       "      <th>3</th>\n",
       "      <td>3</td>\n",
       "      <td>3</td>\n",
       "      <td>Tag Sultan, Ring Road, Cairo</td>\n",
       "      <td>168</td>\n",
       "      <td>1950000</td>\n",
       "      <td>Cairo</td>\n",
       "      <td>Egypt</td>\n",
       "      <td>buy</td>\n",
       "      <td>123966.942149</td>\n",
       "      <td>Apartment</td>\n",
       "      <td>Ring Road</td>\n",
       "    </tr>\n",
       "    <tr>\n",
       "      <th>4</th>\n",
       "      <td>5</td>\n",
       "      <td>5</td>\n",
       "      <td>Mountain View Hyde Park, 5th Settlement Compou...</td>\n",
       "      <td>375</td>\n",
       "      <td>6250000</td>\n",
       "      <td>Cairo</td>\n",
       "      <td>Egypt</td>\n",
       "      <td>buy</td>\n",
       "      <td>397329.942784</td>\n",
       "      <td>Twin House</td>\n",
       "      <td>New Cairo City</td>\n",
       "    </tr>\n",
       "  </tbody>\n",
       "</table>\n",
       "</div>"
      ],
      "text/plain": [
       "  Baths Beds                                           Location Square Meter  \\\n",
       "0     4    4  Hyde Park, 5th Settlement Compounds, The 5th S...          236   \n",
       "1     5    4  Allegria, Sheikh Zayed Compounds, Sheikh Zayed...          470   \n",
       "2     3    3  Hyde Park, 5th Settlement Compounds, The 5th S...          211   \n",
       "3     3    3                       Tag Sultan, Ring Road, Cairo          168   \n",
       "4     5    5  Mountain View Hyde Park, 5th Settlement Compou...          375   \n",
       "\n",
       "  base_price    city country page      price_usd property_type  \\\n",
       "0    2250000   Cairo   Egypt  buy  143038.779402     Apartment   \n",
       "1    7200000    Giza   Egypt  buy  457724.094088         Villa   \n",
       "2    2700000   Cairo   Egypt  buy  171646.535283     Apartment   \n",
       "3    1950000   Cairo   Egypt  buy  123966.942149     Apartment   \n",
       "4    6250000   Cairo   Egypt  buy  397329.942784    Twin House   \n",
       "\n",
       "              sub_div  \n",
       "0      New Cairo City  \n",
       "1   Sheikh Zayed City  \n",
       "2      New Cairo City  \n",
       "3           Ring Road  \n",
       "4      New Cairo City  "
      ]
     },
     "execution_count": 12,
     "metadata": {},
     "output_type": "execute_result"
    }
   ],
   "source": [
    "df.head()"
   ]
  },
  {
   "cell_type": "code",
   "execution_count": 13,
   "metadata": {},
   "outputs": [],
   "source": [
    "# drop duplicates and re-index to make further calculation quicker.\n",
    "df = df.drop_duplicates().reset_index(drop=True)"
   ]
  },
  {
   "cell_type": "code",
   "execution_count": 14,
   "metadata": {
    "scrolled": true
   },
   "outputs": [],
   "source": [
    "df.drop_duplicates().to_csv(\"./CSVs/egypt_all.csv\", index=False)"
   ]
  },
  {
   "cell_type": "markdown",
   "metadata": {},
   "source": [
    "### Switching between locators if we get timed out of one for pulling too much data, \n",
    "> Nominatim is best for our data."
   ]
  },
  {
   "cell_type": "code",
   "execution_count": 15,
   "metadata": {},
   "outputs": [],
   "source": [
    "nom_locator = Nominatim(user_agent=\"myGeocoder\")"
   ]
  },
  {
   "cell_type": "code",
   "execution_count": 16,
   "metadata": {},
   "outputs": [],
   "source": [
    "arc_locator= ArcGIS()"
   ]
  },
  {
   "cell_type": "code",
   "execution_count": 17,
   "metadata": {},
   "outputs": [],
   "source": [
    "def Lat_Long_Finder(dataframe, start_num, locator):\n",
    "    dataframe['lat'] = 0.0\n",
    "    dataframe['lon'] = 0.0\n",
    "\n",
    "    error_list =[]\n",
    "    while start_num < len(dataframe):\n",
    "        try:\n",
    "            #create a location string , geocode will try and place the string on a map and return\n",
    "            #attributes including lattitude and longitude\n",
    "            location = locator.geocode(dataframe[\"Location\"][start_num].split(\",\")[2] + \",Cairo,Egypt\" , timeout=10)\n",
    "\n",
    "            #using 'at' to change single cells within a row\n",
    "            dataframe.at[start_num, 'lat']= location.latitude\n",
    "            dataframe.at[start_num, 'lon']= location.longitude\n",
    "\n",
    "        # errors on rows of data are skipped by passing these errors\n",
    "        # passed errors are printed out on screen and their row # is stored in error_list\n",
    "        except AttributeError:\n",
    "            print (f'Passed AttributeError on line: {start_num}')\n",
    "            error_list.append(start_num)\n",
    "            pass\n",
    "\n",
    "        except IndexError:\n",
    "            print (f'Passed IndexError on line: {start_num}')\n",
    "            error_list.append(start_num)\n",
    "            pass\n",
    "\n",
    "        except GeocoderTimedOut:\n",
    "            print (f'Passed GeocoderTimedOut Error on line: {start_num}')\n",
    "            error_list.append(start_num)\n",
    "            pass\n",
    "\n",
    "        except NameError:\n",
    "            print (f'Passed NameError on line: {start_num}')\n",
    "            error_list.append(start_num)\n",
    "            pass\n",
    "\n",
    "        if start_num %50 == 0:\n",
    "            print(f\"{start_num} rows of data attempted conversion out of {len(dataframe)}.\")\n",
    "        \n",
    "            \n",
    "        time.sleep(3) # Nominatium suggests 1 second pause, 3 second pause needed for arcgis\n",
    "        start_num+=1\n",
    "        \n",
    "        if start_num == len(dataframe):\n",
    "            print(\"completed\")\n",
    "    \n",
    "    return dataframe"
   ]
  },
  {
   "cell_type": "code",
   "execution_count": 18,
   "metadata": {
    "scrolled": false
   },
   "outputs": [
    {
     "name": "stdout",
     "output_type": "stream",
     "text": [
      "0 rows of data attempted conversion out of 148.\n",
      "Passed AttributeError on line: 10\n",
      "Passed AttributeError on line: 11\n",
      "Passed AttributeError on line: 19\n",
      "Passed AttributeError on line: 26\n",
      "Passed AttributeError on line: 35\n",
      "Passed AttributeError on line: 40\n",
      "Passed AttributeError on line: 48\n",
      "50 rows of data attempted conversion out of 148.\n",
      "100 rows of data attempted conversion out of 148.\n",
      "completed\n"
     ]
    }
   ],
   "source": [
    "df = Lat_Long_Finder(df,0 , nom_locator)"
   ]
  },
  {
   "cell_type": "code",
   "execution_count": 19,
   "metadata": {
    "scrolled": true
   },
   "outputs": [
    {
     "data": {
      "text/html": [
       "<div>\n",
       "<style scoped>\n",
       "    .dataframe tbody tr th:only-of-type {\n",
       "        vertical-align: middle;\n",
       "    }\n",
       "\n",
       "    .dataframe tbody tr th {\n",
       "        vertical-align: top;\n",
       "    }\n",
       "\n",
       "    .dataframe thead th {\n",
       "        text-align: right;\n",
       "    }\n",
       "</style>\n",
       "<table border=\"1\" class=\"dataframe\">\n",
       "  <thead>\n",
       "    <tr style=\"text-align: right;\">\n",
       "      <th></th>\n",
       "      <th>Baths</th>\n",
       "      <th>Beds</th>\n",
       "      <th>Location</th>\n",
       "      <th>Square Meter</th>\n",
       "      <th>base_price</th>\n",
       "      <th>city</th>\n",
       "      <th>country</th>\n",
       "      <th>page</th>\n",
       "      <th>price_usd</th>\n",
       "      <th>property_type</th>\n",
       "      <th>sub_div</th>\n",
       "      <th>lat</th>\n",
       "      <th>lon</th>\n",
       "    </tr>\n",
       "  </thead>\n",
       "  <tbody>\n",
       "    <tr>\n",
       "      <th>0</th>\n",
       "      <td>4</td>\n",
       "      <td>4</td>\n",
       "      <td>Hyde Park, 5th Settlement Compounds, The 5th S...</td>\n",
       "      <td>236</td>\n",
       "      <td>2250000</td>\n",
       "      <td>Cairo</td>\n",
       "      <td>Egypt</td>\n",
       "      <td>buy</td>\n",
       "      <td>143038.779402</td>\n",
       "      <td>Apartment</td>\n",
       "      <td>New Cairo City</td>\n",
       "      <td>30.063579</td>\n",
       "      <td>31.447190</td>\n",
       "    </tr>\n",
       "    <tr>\n",
       "      <th>1</th>\n",
       "      <td>5</td>\n",
       "      <td>4</td>\n",
       "      <td>Allegria, Sheikh Zayed Compounds, Sheikh Zayed...</td>\n",
       "      <td>470</td>\n",
       "      <td>7200000</td>\n",
       "      <td>Giza</td>\n",
       "      <td>Egypt</td>\n",
       "      <td>buy</td>\n",
       "      <td>457724.094088</td>\n",
       "      <td>Villa</td>\n",
       "      <td>Sheikh Zayed City</td>\n",
       "      <td>30.048347</td>\n",
       "      <td>30.983224</td>\n",
       "    </tr>\n",
       "    <tr>\n",
       "      <th>2</th>\n",
       "      <td>3</td>\n",
       "      <td>3</td>\n",
       "      <td>Hyde Park, 5th Settlement Compounds, The 5th S...</td>\n",
       "      <td>211</td>\n",
       "      <td>2700000</td>\n",
       "      <td>Cairo</td>\n",
       "      <td>Egypt</td>\n",
       "      <td>buy</td>\n",
       "      <td>171646.535283</td>\n",
       "      <td>Apartment</td>\n",
       "      <td>New Cairo City</td>\n",
       "      <td>30.063579</td>\n",
       "      <td>31.447190</td>\n",
       "    </tr>\n",
       "    <tr>\n",
       "      <th>3</th>\n",
       "      <td>3</td>\n",
       "      <td>3</td>\n",
       "      <td>Tag Sultan, Ring Road, Cairo</td>\n",
       "      <td>168</td>\n",
       "      <td>1950000</td>\n",
       "      <td>Cairo</td>\n",
       "      <td>Egypt</td>\n",
       "      <td>buy</td>\n",
       "      <td>123966.942149</td>\n",
       "      <td>Apartment</td>\n",
       "      <td>Ring Road</td>\n",
       "      <td>30.048819</td>\n",
       "      <td>31.243666</td>\n",
       "    </tr>\n",
       "    <tr>\n",
       "      <th>4</th>\n",
       "      <td>5</td>\n",
       "      <td>5</td>\n",
       "      <td>Mountain View Hyde Park, 5th Settlement Compou...</td>\n",
       "      <td>375</td>\n",
       "      <td>6250000</td>\n",
       "      <td>Cairo</td>\n",
       "      <td>Egypt</td>\n",
       "      <td>buy</td>\n",
       "      <td>397329.942784</td>\n",
       "      <td>Twin House</td>\n",
       "      <td>New Cairo City</td>\n",
       "      <td>30.063579</td>\n",
       "      <td>31.447190</td>\n",
       "    </tr>\n",
       "  </tbody>\n",
       "</table>\n",
       "</div>"
      ],
      "text/plain": [
       "  Baths Beds                                           Location Square Meter  \\\n",
       "0     4    4  Hyde Park, 5th Settlement Compounds, The 5th S...          236   \n",
       "1     5    4  Allegria, Sheikh Zayed Compounds, Sheikh Zayed...          470   \n",
       "2     3    3  Hyde Park, 5th Settlement Compounds, The 5th S...          211   \n",
       "3     3    3                       Tag Sultan, Ring Road, Cairo          168   \n",
       "4     5    5  Mountain View Hyde Park, 5th Settlement Compou...          375   \n",
       "\n",
       "  base_price    city country page      price_usd property_type  \\\n",
       "0    2250000   Cairo   Egypt  buy  143038.779402     Apartment   \n",
       "1    7200000    Giza   Egypt  buy  457724.094088         Villa   \n",
       "2    2700000   Cairo   Egypt  buy  171646.535283     Apartment   \n",
       "3    1950000   Cairo   Egypt  buy  123966.942149     Apartment   \n",
       "4    6250000   Cairo   Egypt  buy  397329.942784    Twin House   \n",
       "\n",
       "              sub_div        lat        lon  \n",
       "0      New Cairo City  30.063579  31.447190  \n",
       "1   Sheikh Zayed City  30.048347  30.983224  \n",
       "2      New Cairo City  30.063579  31.447190  \n",
       "3           Ring Road  30.048819  31.243666  \n",
       "4      New Cairo City  30.063579  31.447190  "
      ]
     },
     "execution_count": 19,
     "metadata": {},
     "output_type": "execute_result"
    }
   ],
   "source": [
    "df.head(5)"
   ]
  },
  {
   "cell_type": "code",
   "execution_count": 20,
   "metadata": {},
   "outputs": [
    {
     "data": {
      "text/html": [
       "<div>\n",
       "<style scoped>\n",
       "    .dataframe tbody tr th:only-of-type {\n",
       "        vertical-align: middle;\n",
       "    }\n",
       "\n",
       "    .dataframe tbody tr th {\n",
       "        vertical-align: top;\n",
       "    }\n",
       "\n",
       "    .dataframe thead th {\n",
       "        text-align: right;\n",
       "    }\n",
       "</style>\n",
       "<table border=\"1\" class=\"dataframe\">\n",
       "  <thead>\n",
       "    <tr style=\"text-align: right;\">\n",
       "      <th></th>\n",
       "      <th>Baths</th>\n",
       "      <th>Beds</th>\n",
       "      <th>Location</th>\n",
       "      <th>Square Meter</th>\n",
       "      <th>base_price</th>\n",
       "      <th>city</th>\n",
       "      <th>country</th>\n",
       "      <th>page</th>\n",
       "      <th>price_usd</th>\n",
       "      <th>property_type</th>\n",
       "      <th>sub_div</th>\n",
       "      <th>lat</th>\n",
       "      <th>lon</th>\n",
       "    </tr>\n",
       "  </thead>\n",
       "  <tbody>\n",
       "    <tr>\n",
       "      <th>143</th>\n",
       "      <td>NaN</td>\n",
       "      <td>NaN</td>\n",
       "      <td>The Water Way, North Investors Area, New Cairo...</td>\n",
       "      <td>180</td>\n",
       "      <td>144000</td>\n",
       "      <td>Cairo</td>\n",
       "      <td>Egypt</td>\n",
       "      <td>commercial</td>\n",
       "      <td>9154.481882</td>\n",
       "      <td>Office Space</td>\n",
       "      <td>New Cairo City</td>\n",
       "      <td>30.020128</td>\n",
       "      <td>31.498221</td>\n",
       "    </tr>\n",
       "    <tr>\n",
       "      <th>144</th>\n",
       "      <td>NaN</td>\n",
       "      <td>NaN</td>\n",
       "      <td>Capital Business Park, 26th of July Corridor, ...</td>\n",
       "      <td>950</td>\n",
       "      <td>420000</td>\n",
       "      <td>Giza</td>\n",
       "      <td>Egypt</td>\n",
       "      <td>commercial</td>\n",
       "      <td>26700.572155</td>\n",
       "      <td>Office Space</td>\n",
       "      <td>Sheikh Zayed City</td>\n",
       "      <td>30.048347</td>\n",
       "      <td>30.983224</td>\n",
       "    </tr>\n",
       "    <tr>\n",
       "      <th>145</th>\n",
       "      <td>NaN</td>\n",
       "      <td>NaN</td>\n",
       "      <td>Gameat Al Dewal Al Arabeya St., Mohandessin, Giza</td>\n",
       "      <td>800</td>\n",
       "      <td>96840</td>\n",
       "      <td>Giza</td>\n",
       "      <td>Egypt</td>\n",
       "      <td>commercial</td>\n",
       "      <td>6156.389065</td>\n",
       "      <td>Office Space</td>\n",
       "      <td>Mohandessin</td>\n",
       "      <td>30.017004</td>\n",
       "      <td>31.213451</td>\n",
       "    </tr>\n",
       "    <tr>\n",
       "      <th>146</th>\n",
       "      <td>NaN</td>\n",
       "      <td>NaN</td>\n",
       "      <td>North Teseen St., The 5th Settlement, New Cair...</td>\n",
       "      <td>49</td>\n",
       "      <td>20000</td>\n",
       "      <td>Cairo</td>\n",
       "      <td>Egypt</td>\n",
       "      <td>commercial</td>\n",
       "      <td>1271.455817</td>\n",
       "      <td>Office Space</td>\n",
       "      <td>New Cairo City</td>\n",
       "      <td>30.020128</td>\n",
       "      <td>31.498221</td>\n",
       "    </tr>\n",
       "    <tr>\n",
       "      <th>147</th>\n",
       "      <td>NaN</td>\n",
       "      <td>NaN</td>\n",
       "      <td>South Teseen St., The 5th Settlement, New Cair...</td>\n",
       "      <td>60</td>\n",
       "      <td>24000</td>\n",
       "      <td>Cairo</td>\n",
       "      <td>Egypt</td>\n",
       "      <td>commercial</td>\n",
       "      <td>1525.746980</td>\n",
       "      <td>Office Space</td>\n",
       "      <td>New Cairo City</td>\n",
       "      <td>30.020128</td>\n",
       "      <td>31.498221</td>\n",
       "    </tr>\n",
       "  </tbody>\n",
       "</table>\n",
       "</div>"
      ],
      "text/plain": [
       "    Baths Beds                                           Location  \\\n",
       "143   NaN  NaN  The Water Way, North Investors Area, New Cairo...   \n",
       "144   NaN  NaN  Capital Business Park, 26th of July Corridor, ...   \n",
       "145   NaN  NaN  Gameat Al Dewal Al Arabeya St., Mohandessin, Giza   \n",
       "146   NaN  NaN  North Teseen St., The 5th Settlement, New Cair...   \n",
       "147   NaN  NaN  South Teseen St., The 5th Settlement, New Cair...   \n",
       "\n",
       "    Square Meter base_price    city country        page     price_usd  \\\n",
       "143          180     144000   Cairo   Egypt  commercial   9154.481882   \n",
       "144          950     420000    Giza   Egypt  commercial  26700.572155   \n",
       "145          800      96840    Giza   Egypt  commercial   6156.389065   \n",
       "146           49      20000   Cairo   Egypt  commercial   1271.455817   \n",
       "147           60      24000   Cairo   Egypt  commercial   1525.746980   \n",
       "\n",
       "    property_type             sub_div        lat        lon  \n",
       "143  Office Space      New Cairo City  30.020128  31.498221  \n",
       "144  Office Space   Sheikh Zayed City  30.048347  30.983224  \n",
       "145  Office Space         Mohandessin  30.017004  31.213451  \n",
       "146  Office Space      New Cairo City  30.020128  31.498221  \n",
       "147  Office Space      New Cairo City  30.020128  31.498221  "
      ]
     },
     "execution_count": 20,
     "metadata": {},
     "output_type": "execute_result"
    }
   ],
   "source": [
    "df.tail(5)"
   ]
  },
  {
   "cell_type": "code",
   "execution_count": 21,
   "metadata": {},
   "outputs": [
    {
     "data": {
      "text/plain": [
       "(148, 13)"
      ]
     },
     "execution_count": 21,
     "metadata": {},
     "output_type": "execute_result"
    }
   ],
   "source": [
    "df.drop_duplicates().shape"
   ]
  },
  {
   "cell_type": "code",
   "execution_count": 22,
   "metadata": {
    "scrolled": true
   },
   "outputs": [],
   "source": [
    "df= df.drop_duplicates().reset_index(drop=True)"
   ]
  },
  {
   "cell_type": "code",
   "execution_count": 23,
   "metadata": {},
   "outputs": [
    {
     "data": {
      "text/plain": [
       "(7, 13)"
      ]
     },
     "execution_count": 23,
     "metadata": {},
     "output_type": "execute_result"
    }
   ],
   "source": [
    "df.loc[df['lat']==0.0].shape"
   ]
  },
  {
   "cell_type": "code",
   "execution_count": 24,
   "metadata": {},
   "outputs": [],
   "source": [
    "df.to_csv(\"./CSVs/with_coords.csv\", index=False)"
   ]
  },
  {
   "cell_type": "code",
   "execution_count": null,
   "metadata": {},
   "outputs": [],
   "source": []
  }
 ],
 "metadata": {
  "kernelspec": {
   "display_name": "Python 3",
   "language": "python",
   "name": "python3"
  },
  "language_info": {
   "codemirror_mode": {
    "name": "ipython",
    "version": 3
   },
   "file_extension": ".py",
   "mimetype": "text/x-python",
   "name": "python",
   "nbconvert_exporter": "python",
   "pygments_lexer": "ipython3",
   "version": "3.7.4"
  }
 },
 "nbformat": 4,
 "nbformat_minor": 2
}
